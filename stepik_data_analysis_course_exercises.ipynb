{
 "cells": [
  {
   "cell_type": "markdown",
   "id": "c622c56b",
   "metadata": {
    "papermill": {
     "duration": 0.008995,
     "end_time": "2023-01-05T08:53:27.137658",
     "exception": false,
     "start_time": "2023-01-05T08:53:27.128663",
     "status": "completed"
    },
    "tags": []
   },
   "source": [
    "# Exercises from Stepik Course: \n",
    "## Анализ данных (Введение в Python и обработку таблиц)  \n",
    "## Data Analysis (Introduction to Python and Table Processing)"
   ]
  },
  {
   "cell_type": "code",
   "execution_count": 1,
   "id": "58b1937c",
   "metadata": {
    "_cell_guid": "b1076dfc-b9ad-4769-8c92-a6c4dae69d19",
    "_uuid": "8f2839f25d086af736a60e9eeb907d3b93b6e0e5",
    "execution": {
     "iopub.execute_input": "2023-01-05T08:53:27.155335Z",
     "iopub.status.busy": "2023-01-05T08:53:27.154569Z",
     "iopub.status.idle": "2023-01-05T08:53:27.189204Z",
     "shell.execute_reply": "2023-01-05T08:53:27.188066Z"
    },
    "papermill": {
     "duration": 0.046666,
     "end_time": "2023-01-05T08:53:27.191931",
     "exception": false,
     "start_time": "2023-01-05T08:53:27.145265",
     "status": "completed"
    },
    "tags": []
   },
   "outputs": [],
   "source": [
    "import pandas as pd \n",
    "\n",
    "df = pd.read_csv('../input/students-interview-fake-data/students.csv',delimiter=',')"
   ]
  },
  {
   "cell_type": "code",
   "execution_count": 2,
   "id": "d9a7762e",
   "metadata": {
    "execution": {
     "iopub.execute_input": "2023-01-05T08:53:27.207827Z",
     "iopub.status.busy": "2023-01-05T08:53:27.207391Z",
     "iopub.status.idle": "2023-01-05T08:53:27.242840Z",
     "shell.execute_reply": "2023-01-05T08:53:27.240688Z"
    },
    "papermill": {
     "duration": 0.046485,
     "end_time": "2023-01-05T08:53:27.245688",
     "exception": false,
     "start_time": "2023-01-05T08:53:27.199203",
     "status": "completed"
    },
    "tags": []
   },
   "outputs": [
    {
     "name": "stdout",
     "output_type": "stream",
     "text": [
      "<class 'pandas.core.frame.DataFrame'>\n",
      "RangeIndex: 186 entries, 0 to 185\n",
      "Data columns (total 48 columns):\n",
      " #   Column                       Non-Null Count  Dtype  \n",
      "---  ------                       --------------  -----  \n",
      " 0   Age                          186 non-null    int64  \n",
      " 1   Growth                       186 non-null    int64  \n",
      " 2   Shoe size                    186 non-null    int64  \n",
      " 3   Course number                186 non-null    int64  \n",
      " 4   Year of birth                186 non-null    int64  \n",
      " 5   Friend number                186 non-null    int64  \n",
      " 6   Russian rating               186 non-null    int64  \n",
      " 7   Maths rating                 186 non-null    int64  \n",
      " 8   Physics rating               186 non-null    int64  \n",
      " 9   Computer science rating      186 non-null    int64  \n",
      " 10  Chemistry rating             186 non-null    int64  \n",
      " 11  Literature rating            186 non-null    int64  \n",
      " 12  History rating               186 non-null    int64  \n",
      " 13  Geography rating             186 non-null    int64  \n",
      " 14  Biology rating               186 non-null    int64  \n",
      " 15  Foreign language rating      186 non-null    int64  \n",
      " 16  Social science rating        186 non-null    int64  \n",
      " 17  Distance to home km          186 non-null    int64  \n",
      " 18  Minutes to first class       186 non-null    int64  \n",
      " 19  Children number              150 non-null    float64\n",
      " 20  Removed teeth                148 non-null    float64\n",
      " 21  Weight                       157 non-null    float64\n",
      " 22  Glasses                      184 non-null    object \n",
      " 23  Sex                          186 non-null    object \n",
      " 24  Problems in last semester    186 non-null    object \n",
      " 25  Coin                         186 non-null    object \n",
      " 26  Rock paper scissors          186 non-null    object \n",
      " 27  Animal                       186 non-null    object \n",
      " 28  Month of birthday            186 non-null    int64  \n",
      " 29  Your rating in university    186 non-null    object \n",
      " 30  Fastfood                     186 non-null    object \n",
      " 31  Height of 5000 mm            186 non-null    int64  \n",
      " 32  Width of 5000 mm             186 non-null    int64  \n",
      " 33  Putin age                    186 non-null    int64  \n",
      " 34  Army                         186 non-null    object \n",
      " 35  Hostel                       186 non-null    object \n",
      " 36  Hair length                  186 non-null    float64\n",
      " 37  Floor number                 186 non-null    int64  \n",
      " 38  Social network duration min  186 non-null    int64  \n",
      " 39  Chocolate                    186 non-null    object \n",
      " 40  City population              186 non-null    float64\n",
      " 41  Strange people               186 non-null    object \n",
      " 42  Your insitute                186 non-null    object \n",
      " 43  Brother-sister               186 non-null    object \n",
      " 44  Plane seat                   186 non-null    object \n",
      " 45  MIddle and index finger      186 non-null    int64  \n",
      " 46  Middle and ring finger       186 non-null    float64\n",
      " 47  Middle and little finger     186 non-null    float64\n",
      "dtypes: float64(7), int64(26), object(15)\n",
      "memory usage: 69.9+ KB\n"
     ]
    }
   ],
   "source": [
    "df.info()"
   ]
  },
  {
   "cell_type": "code",
   "execution_count": 3,
   "id": "119bfc53",
   "metadata": {
    "execution": {
     "iopub.execute_input": "2023-01-05T08:53:27.264583Z",
     "iopub.status.busy": "2023-01-05T08:53:27.264138Z",
     "iopub.status.idle": "2023-01-05T08:53:27.302610Z",
     "shell.execute_reply": "2023-01-05T08:53:27.301536Z"
    },
    "jupyter": {
     "source_hidden": true
    },
    "papermill": {
     "duration": 0.051289,
     "end_time": "2023-01-05T08:53:27.304885",
     "exception": false,
     "start_time": "2023-01-05T08:53:27.253596",
     "status": "completed"
    },
    "tags": []
   },
   "outputs": [
    {
     "data": {
      "text/html": [
       "<div>\n",
       "<style scoped>\n",
       "    .dataframe tbody tr th:only-of-type {\n",
       "        vertical-align: middle;\n",
       "    }\n",
       "\n",
       "    .dataframe tbody tr th {\n",
       "        vertical-align: top;\n",
       "    }\n",
       "\n",
       "    .dataframe thead th {\n",
       "        text-align: right;\n",
       "    }\n",
       "</style>\n",
       "<table border=\"1\" class=\"dataframe\">\n",
       "  <thead>\n",
       "    <tr style=\"text-align: right;\">\n",
       "      <th></th>\n",
       "      <th>Age</th>\n",
       "      <th>Growth</th>\n",
       "      <th>Shoe size</th>\n",
       "      <th>Course number</th>\n",
       "      <th>Year of birth</th>\n",
       "      <th>Friend number</th>\n",
       "      <th>Russian rating</th>\n",
       "      <th>Maths rating</th>\n",
       "      <th>Physics rating</th>\n",
       "      <th>Computer science rating</th>\n",
       "      <th>...</th>\n",
       "      <th>Social network duration min</th>\n",
       "      <th>Chocolate</th>\n",
       "      <th>City population</th>\n",
       "      <th>Strange people</th>\n",
       "      <th>Your insitute</th>\n",
       "      <th>Brother-sister</th>\n",
       "      <th>Plane seat</th>\n",
       "      <th>MIddle and index finger</th>\n",
       "      <th>Middle and ring finger</th>\n",
       "      <th>Middle and little finger</th>\n",
       "    </tr>\n",
       "  </thead>\n",
       "  <tbody>\n",
       "    <tr>\n",
       "      <th>0</th>\n",
       "      <td>20</td>\n",
       "      <td>170</td>\n",
       "      <td>40</td>\n",
       "      <td>2</td>\n",
       "      <td>2002</td>\n",
       "      <td>100</td>\n",
       "      <td>85</td>\n",
       "      <td>86</td>\n",
       "      <td>0</td>\n",
       "      <td>84</td>\n",
       "      <td>...</td>\n",
       "      <td>45</td>\n",
       "      <td>Сникерс</td>\n",
       "      <td>800000.0</td>\n",
       "      <td>Экономический</td>\n",
       "      <td>Математический и ИТ</td>\n",
       "      <td>нет ни брата ни сестры</td>\n",
       "      <td>У окна (пардон: у иллюминатора)</td>\n",
       "      <td>20</td>\n",
       "      <td>10.0</td>\n",
       "      <td>40.0</td>\n",
       "    </tr>\n",
       "    <tr>\n",
       "      <th>1</th>\n",
       "      <td>22</td>\n",
       "      <td>191</td>\n",
       "      <td>43</td>\n",
       "      <td>7</td>\n",
       "      <td>2000</td>\n",
       "      <td>307</td>\n",
       "      <td>69</td>\n",
       "      <td>74</td>\n",
       "      <td>64</td>\n",
       "      <td>72</td>\n",
       "      <td>...</td>\n",
       "      <td>180</td>\n",
       "      <td>КитКат</td>\n",
       "      <td>800000.0</td>\n",
       "      <td>Математический и ИТ</td>\n",
       "      <td>Математический и ИТ</td>\n",
       "      <td>есть и брат и сестра</td>\n",
       "      <td>В середине</td>\n",
       "      <td>5</td>\n",
       "      <td>5.0</td>\n",
       "      <td>20.0</td>\n",
       "    </tr>\n",
       "    <tr>\n",
       "      <th>2</th>\n",
       "      <td>21</td>\n",
       "      <td>172</td>\n",
       "      <td>41</td>\n",
       "      <td>4</td>\n",
       "      <td>2000</td>\n",
       "      <td>186</td>\n",
       "      <td>78</td>\n",
       "      <td>62</td>\n",
       "      <td>0</td>\n",
       "      <td>0</td>\n",
       "      <td>...</td>\n",
       "      <td>90</td>\n",
       "      <td>КитКат</td>\n",
       "      <td>770000.0</td>\n",
       "      <td>Педагогический</td>\n",
       "      <td>Другое</td>\n",
       "      <td>есть брат</td>\n",
       "      <td>У окна (пардон: у иллюминатора)</td>\n",
       "      <td>13</td>\n",
       "      <td>10.0</td>\n",
       "      <td>26.0</td>\n",
       "    </tr>\n",
       "    <tr>\n",
       "      <th>3</th>\n",
       "      <td>19</td>\n",
       "      <td>168</td>\n",
       "      <td>38</td>\n",
       "      <td>2</td>\n",
       "      <td>2003</td>\n",
       "      <td>604</td>\n",
       "      <td>72</td>\n",
       "      <td>0</td>\n",
       "      <td>0</td>\n",
       "      <td>0</td>\n",
       "      <td>...</td>\n",
       "      <td>200</td>\n",
       "      <td>Баунти</td>\n",
       "      <td>900000.0</td>\n",
       "      <td>СоцГум</td>\n",
       "      <td>Юридический</td>\n",
       "      <td>есть сестра</td>\n",
       "      <td>У окна (пардон: у иллюминатора)</td>\n",
       "      <td>12</td>\n",
       "      <td>13.5</td>\n",
       "      <td>35.0</td>\n",
       "    </tr>\n",
       "    <tr>\n",
       "      <th>4</th>\n",
       "      <td>23</td>\n",
       "      <td>159</td>\n",
       "      <td>36</td>\n",
       "      <td>1</td>\n",
       "      <td>1998</td>\n",
       "      <td>144</td>\n",
       "      <td>0</td>\n",
       "      <td>0</td>\n",
       "      <td>0</td>\n",
       "      <td>0</td>\n",
       "      <td>...</td>\n",
       "      <td>400</td>\n",
       "      <td>Баунти</td>\n",
       "      <td>860000.0</td>\n",
       "      <td>Педагогический</td>\n",
       "      <td>Педагогический</td>\n",
       "      <td>есть сестра</td>\n",
       "      <td>У окна (пардон: у иллюминатора)</td>\n",
       "      <td>10</td>\n",
       "      <td>11.0</td>\n",
       "      <td>22.0</td>\n",
       "    </tr>\n",
       "  </tbody>\n",
       "</table>\n",
       "<p>5 rows × 48 columns</p>\n",
       "</div>"
      ],
      "text/plain": [
       "   Age  Growth  Shoe size  Course number  Year of birth  Friend number  \\\n",
       "0   20     170         40              2           2002            100   \n",
       "1   22     191         43              7           2000            307   \n",
       "2   21     172         41              4           2000            186   \n",
       "3   19     168         38              2           2003            604   \n",
       "4   23     159         36              1           1998            144   \n",
       "\n",
       "   Russian rating  Maths rating  Physics rating  Computer science rating  ...  \\\n",
       "0              85            86               0                       84  ...   \n",
       "1              69            74              64                       72  ...   \n",
       "2              78            62               0                        0  ...   \n",
       "3              72             0               0                        0  ...   \n",
       "4               0             0               0                        0  ...   \n",
       "\n",
       "   Social network duration min  Chocolate  City population  \\\n",
       "0                           45    Сникерс         800000.0   \n",
       "1                          180     КитКат         800000.0   \n",
       "2                           90     КитКат         770000.0   \n",
       "3                          200     Баунти         900000.0   \n",
       "4                          400     Баунти         860000.0   \n",
       "\n",
       "        Strange people        Your insitute          Brother-sister  \\\n",
       "0        Экономический  Математический и ИТ  нет ни брата ни сестры   \n",
       "1  Математический и ИТ  Математический и ИТ    есть и брат и сестра   \n",
       "2       Педагогический               Другое               есть брат   \n",
       "3               СоцГум          Юридический             есть сестра   \n",
       "4       Педагогический       Педагогический             есть сестра   \n",
       "\n",
       "                        Plane seat  MIddle and index finger  \\\n",
       "0  У окна (пардон: у иллюминатора)                       20   \n",
       "1                       В середине                        5   \n",
       "2  У окна (пардон: у иллюминатора)                       13   \n",
       "3  У окна (пардон: у иллюминатора)                       12   \n",
       "4  У окна (пардон: у иллюминатора)                       10   \n",
       "\n",
       "   Middle and ring finger  Middle and little finger  \n",
       "0                    10.0                      40.0  \n",
       "1                     5.0                      20.0  \n",
       "2                    10.0                      26.0  \n",
       "3                    13.5                      35.0  \n",
       "4                    11.0                      22.0  \n",
       "\n",
       "[5 rows x 48 columns]"
      ]
     },
     "execution_count": 3,
     "metadata": {},
     "output_type": "execute_result"
    }
   ],
   "source": [
    "df.head()"
   ]
  },
  {
   "cell_type": "code",
   "execution_count": 4,
   "id": "5c546805",
   "metadata": {
    "execution": {
     "iopub.execute_input": "2023-01-05T08:53:27.323429Z",
     "iopub.status.busy": "2023-01-05T08:53:27.322752Z",
     "iopub.status.idle": "2023-01-05T08:53:27.330479Z",
     "shell.execute_reply": "2023-01-05T08:53:27.329092Z"
    },
    "papermill": {
     "duration": 0.020165,
     "end_time": "2023-01-05T08:53:27.332923",
     "exception": false,
     "start_time": "2023-01-05T08:53:27.312758",
     "status": "completed"
    },
    "tags": []
   },
   "outputs": [
    {
     "data": {
      "text/plain": [
       "169"
      ]
     },
     "execution_count": 4,
     "metadata": {},
     "output_type": "execute_result"
    }
   ],
   "source": [
    "# 2.1.15. Какой рост у человека с индексом 12 в таблице?\n",
    "\n",
    "df.iloc[12]['Growth']"
   ]
  },
  {
   "cell_type": "code",
   "execution_count": 5,
   "id": "b4c8de97",
   "metadata": {
    "execution": {
     "iopub.execute_input": "2023-01-05T08:53:27.352423Z",
     "iopub.status.busy": "2023-01-05T08:53:27.351981Z",
     "iopub.status.idle": "2023-01-05T08:53:27.360475Z",
     "shell.execute_reply": "2023-01-05T08:53:27.358833Z"
    },
    "papermill": {
     "duration": 0.022002,
     "end_time": "2023-01-05T08:53:27.363076",
     "exception": false,
     "start_time": "2023-01-05T08:53:27.341074",
     "status": "completed"
    },
    "tags": []
   },
   "outputs": [
    {
     "data": {
      "text/plain": [
       "161"
      ]
     },
     "execution_count": 5,
     "metadata": {},
     "output_type": "execute_result"
    }
   ],
   "source": [
    "# 2.1.16. Какой рост у восемнадцатого человека с конца таблицы?\n",
    "\n",
    "df.iloc[-18]['Growth']"
   ]
  },
  {
   "cell_type": "code",
   "execution_count": 6,
   "id": "68b0a5e5",
   "metadata": {
    "execution": {
     "iopub.execute_input": "2023-01-05T08:53:27.380107Z",
     "iopub.status.busy": "2023-01-05T08:53:27.379686Z",
     "iopub.status.idle": "2023-01-05T08:53:27.386793Z",
     "shell.execute_reply": "2023-01-05T08:53:27.386009Z"
    },
    "papermill": {
     "duration": 0.01808,
     "end_time": "2023-01-05T08:53:27.388786",
     "exception": false,
     "start_time": "2023-01-05T08:53:27.370706",
     "status": "completed"
    },
    "tags": []
   },
   "outputs": [
    {
     "data": {
      "text/plain": [
       "64.03"
      ]
     },
     "execution_count": 6,
     "metadata": {},
     "output_type": "execute_result"
    }
   ],
   "source": [
    "# 2.2.5. Чему равно среднее значение веса студентов? Дать ответ с погрешностью 0.01\n",
    "\n",
    "df['Weight'].mean().round(2)"
   ]
  },
  {
   "cell_type": "code",
   "execution_count": 7,
   "id": "6e25115e",
   "metadata": {
    "execution": {
     "iopub.execute_input": "2023-01-05T08:53:27.406864Z",
     "iopub.status.busy": "2023-01-05T08:53:27.406477Z",
     "iopub.status.idle": "2023-01-05T08:53:27.415279Z",
     "shell.execute_reply": "2023-01-05T08:53:27.414168Z"
    },
    "papermill": {
     "duration": 0.020764,
     "end_time": "2023-01-05T08:53:27.417668",
     "exception": false,
     "start_time": "2023-01-05T08:53:27.396904",
     "status": "completed"
    },
    "tags": []
   },
   "outputs": [
    {
     "data": {
      "text/plain": [
       "60.0"
      ]
     },
     "execution_count": 7,
     "metadata": {},
     "output_type": "execute_result"
    }
   ],
   "source": [
    "# 2.2.6. Чему равно медианное значение веса студентов?\n",
    "\n",
    "df['Weight'].median()"
   ]
  },
  {
   "cell_type": "code",
   "execution_count": 8,
   "id": "87df5482",
   "metadata": {
    "execution": {
     "iopub.execute_input": "2023-01-05T08:53:27.435521Z",
     "iopub.status.busy": "2023-01-05T08:53:27.435067Z",
     "iopub.status.idle": "2023-01-05T08:53:27.444824Z",
     "shell.execute_reply": "2023-01-05T08:53:27.443144Z"
    },
    "papermill": {
     "duration": 0.021724,
     "end_time": "2023-01-05T08:53:27.447537",
     "exception": false,
     "start_time": "2023-01-05T08:53:27.425813",
     "status": "completed"
    },
    "tags": []
   },
   "outputs": [
    {
     "data": {
      "text/plain": [
       "3.0"
      ]
     },
     "execution_count": 8,
     "metadata": {},
     "output_type": "execute_result"
    }
   ],
   "source": [
    "# 2.2.7. Чему равен вес самого \"лёгкого\" студента. Спойлер: у этого студента есть чувство юмора.\n",
    "\n",
    "df['Weight'].min()"
   ]
  },
  {
   "cell_type": "code",
   "execution_count": 9,
   "id": "09b84690",
   "metadata": {
    "execution": {
     "iopub.execute_input": "2023-01-05T08:53:27.468191Z",
     "iopub.status.busy": "2023-01-05T08:53:27.467417Z",
     "iopub.status.idle": "2023-01-05T08:53:27.475632Z",
     "shell.execute_reply": "2023-01-05T08:53:27.474682Z"
    },
    "papermill": {
     "duration": 0.021662,
     "end_time": "2023-01-05T08:53:27.478058",
     "exception": false,
     "start_time": "2023-01-05T08:53:27.456396",
     "status": "completed"
    },
    "tags": []
   },
   "outputs": [
    {
     "data": {
      "text/plain": [
       "120.0"
      ]
     },
     "execution_count": 9,
     "metadata": {},
     "output_type": "execute_result"
    }
   ],
   "source": [
    "# 2.2.8. Чему равно максимальное значение веса студента в таблице?\n",
    "\n",
    "df['Weight'].max()"
   ]
  },
  {
   "cell_type": "code",
   "execution_count": 10,
   "id": "204b0259",
   "metadata": {
    "execution": {
     "iopub.execute_input": "2023-01-05T08:53:27.495984Z",
     "iopub.status.busy": "2023-01-05T08:53:27.495470Z",
     "iopub.status.idle": "2023-01-05T08:53:27.503926Z",
     "shell.execute_reply": "2023-01-05T08:53:27.502798Z"
    },
    "papermill": {
     "duration": 0.019905,
     "end_time": "2023-01-05T08:53:27.506081",
     "exception": false,
     "start_time": "2023-01-05T08:53:27.486176",
     "status": "completed"
    },
    "tags": []
   },
   "outputs": [
    {
     "data": {
      "text/plain": [
       "88"
      ]
     },
     "execution_count": 10,
     "metadata": {},
     "output_type": "execute_result"
    }
   ],
   "source": [
    "# 2.2.9. Сколько людей выбирает \"Ножницы\" при игре в \"Камень-Ножницы-Бумагу\"?\n",
    "\n",
    "df['Rock paper scissors'][df['Rock paper scissors']=='Ножницы'].count()"
   ]
  },
  {
   "cell_type": "code",
   "execution_count": 11,
   "id": "6050a653",
   "metadata": {
    "execution": {
     "iopub.execute_input": "2023-01-05T08:53:27.525006Z",
     "iopub.status.busy": "2023-01-05T08:53:27.524500Z",
     "iopub.status.idle": "2023-01-05T08:53:27.533652Z",
     "shell.execute_reply": "2023-01-05T08:53:27.532538Z"
    },
    "papermill": {
     "duration": 0.02194,
     "end_time": "2023-01-05T08:53:27.536154",
     "exception": false,
     "start_time": "2023-01-05T08:53:27.514214",
     "status": "completed"
    },
    "tags": []
   },
   "outputs": [
    {
     "data": {
      "text/plain": [
       "Ножницы    88\n",
       "Камень     60\n",
       "Бумага     38\n",
       "Name: Rock paper scissors, dtype: int64"
      ]
     },
     "execution_count": 11,
     "metadata": {},
     "output_type": "execute_result"
    }
   ],
   "source": [
    "# 2.2.10. Вы можете узнать, сколько студентов выбирают камень, ножницы или бумагу в игре. Зная эту информацию, какую фигуру выгоднее всего выбирать в игре?\n",
    "\n",
    "df['Rock paper scissors'].value_counts()\n",
    "\n",
    "# result - Камень"
   ]
  },
  {
   "cell_type": "code",
   "execution_count": 12,
   "id": "979db63c",
   "metadata": {
    "execution": {
     "iopub.execute_input": "2023-01-05T08:53:27.555477Z",
     "iopub.status.busy": "2023-01-05T08:53:27.554718Z",
     "iopub.status.idle": "2023-01-05T08:53:27.561903Z",
     "shell.execute_reply": "2023-01-05T08:53:27.560563Z"
    },
    "papermill": {
     "duration": 0.020113,
     "end_time": "2023-01-05T08:53:27.564781",
     "exception": false,
     "start_time": "2023-01-05T08:53:27.544668",
     "status": "completed"
    },
    "tags": []
   },
   "outputs": [
    {
     "name": "stdout",
     "output_type": "stream",
     "text": [
      "58.0 женский\n"
     ]
    }
   ],
   "source": [
    "# 2.2.11 Чему равен вес десятого по счету человека в таблице и какой у него пол? \n",
    "\n",
    "# df[['Weight', 'Sex']].loc[9]\n",
    "# df.loc[9, ['Weight', 'Sex']]\n",
    "\n",
    "print(df.iloc[9]['Weight'], df.iloc[9]['Sex'])"
   ]
  },
  {
   "cell_type": "code",
   "execution_count": 13,
   "id": "63609d1a",
   "metadata": {
    "execution": {
     "iopub.execute_input": "2023-01-05T08:53:27.583554Z",
     "iopub.status.busy": "2023-01-05T08:53:27.583147Z",
     "iopub.status.idle": "2023-01-05T08:53:27.592145Z",
     "shell.execute_reply": "2023-01-05T08:53:27.590985Z"
    },
    "papermill": {
     "duration": 0.020895,
     "end_time": "2023-01-05T08:53:27.594536",
     "exception": false,
     "start_time": "2023-01-05T08:53:27.573641",
     "status": "completed"
    },
    "tags": []
   },
   "outputs": [
    {
     "data": {
      "text/plain": [
       "7    180\n",
       "Name: Growth, dtype: int64"
      ]
     },
     "execution_count": 13,
     "metadata": {},
     "output_type": "execute_result"
    }
   ],
   "source": [
    "# 2.3.9. Чему равен рост человека с максимальным весом?\n",
    "\n",
    "# df.loc[df.Weight.idxmax(), 'Growth']\n",
    "# df.query(\"Weight==Weight.max()\").Growth\n",
    "\n",
    "df['Growth'][df['Weight']==df['Weight'].max()]"
   ]
  },
  {
   "cell_type": "code",
   "execution_count": 14,
   "id": "dfa2ef2f",
   "metadata": {
    "execution": {
     "iopub.execute_input": "2023-01-05T08:53:27.612865Z",
     "iopub.status.busy": "2023-01-05T08:53:27.612439Z",
     "iopub.status.idle": "2023-01-05T08:53:27.624840Z",
     "shell.execute_reply": "2023-01-05T08:53:27.623576Z"
    },
    "papermill": {
     "duration": 0.024516,
     "end_time": "2023-01-05T08:53:27.627362",
     "exception": false,
     "start_time": "2023-01-05T08:53:27.602846",
     "status": "completed"
    },
    "tags": []
   },
   "outputs": [
    {
     "name": "stdout",
     "output_type": "stream",
     "text": [
      "11.045945945945945\n"
     ]
    }
   ],
   "source": [
    "# 2.3.10. Создайте две новых таблицы: army_persons - это все студенты, которых могут призвать в армию из-за отчисления, и free_persons - это те, кого не призовут.\n",
    "# Подсчитайте среднюю длину волос у студентов таблиц army_persons и free_persons. Верна ли гипотеза: \"Чтобы избежать призыва, нужно всего-лишь отрастить волосы подлиннее\"?\n",
    "# В ответ запишите среднюю длину волос студентов из army_persons. \n",
    "\n",
    "df['Army'].value_counts()\n",
    "free_persons = df[df['Army'] != 'могут призвать']\n",
    "free_persons['Hair length'].mean()\n",
    "army_persons = df[df['Army'] == 'могут призвать']\n",
    "result = army_persons['Hair length'].mean()\n",
    "print(result)"
   ]
  },
  {
   "cell_type": "code",
   "execution_count": 15,
   "id": "0beb4eff",
   "metadata": {
    "execution": {
     "iopub.execute_input": "2023-01-05T08:53:27.648390Z",
     "iopub.status.busy": "2023-01-05T08:53:27.648003Z",
     "iopub.status.idle": "2023-01-05T08:53:27.659437Z",
     "shell.execute_reply": "2023-01-05T08:53:27.658011Z"
    },
    "papermill": {
     "duration": 0.025894,
     "end_time": "2023-01-05T08:53:27.662781",
     "exception": false,
     "start_time": "2023-01-05T08:53:27.636887",
     "status": "completed"
    },
    "tags": []
   },
   "outputs": [
    {
     "data": {
      "text/plain": [
       "мужской    1\n",
       "женский    1\n",
       "Name: Sex, dtype: int64"
      ]
     },
     "execution_count": 15,
     "metadata": {},
     "output_type": "execute_result"
    }
   ],
   "source": [
    "# 2.3.11. Найдите всех студентов, к которых 0 друзей в социальных сетях. Сколько среди них женщин и мужчин?\n",
    "# Запишите количество мужчин среди них.\n",
    "\n",
    "df[df['Friend number']==0]['Sex'].value_counts()"
   ]
  },
  {
   "cell_type": "code",
   "execution_count": 16,
   "id": "a9b1be25",
   "metadata": {
    "execution": {
     "iopub.execute_input": "2023-01-05T08:53:27.681501Z",
     "iopub.status.busy": "2023-01-05T08:53:27.681101Z",
     "iopub.status.idle": "2023-01-05T08:53:27.690690Z",
     "shell.execute_reply": "2023-01-05T08:53:27.689546Z"
    },
    "papermill": {
     "duration": 0.021648,
     "end_time": "2023-01-05T08:53:27.693064",
     "exception": false,
     "start_time": "2023-01-05T08:53:27.671416",
     "status": "completed"
    },
    "tags": []
   },
   "outputs": [
    {
     "data": {
      "text/plain": [
       "12"
      ]
     },
     "execution_count": 16,
     "metadata": {},
     "output_type": "execute_result"
    }
   ],
   "source": [
    "# 2.3.12. Проверим гипотезу: \"Любители собак в основном живут на нижних этажах домов\" (типа иначе выгуливать лень). \n",
    "# Создайте таблицу dog_lovers - это все студенты, которые любят собак. \n",
    "# В ответ запишите долю (процент) из них, которые живут на первом этаже. Ответ округлить до целого количества процентов. \n",
    "\n",
    "dog_lovers = df[df.Animal == 'Собак']\n",
    "round(len(dog_lovers[dog_lovers['Floor number'] == 1]) / len(dog_lovers) * 100)"
   ]
  },
  {
   "cell_type": "code",
   "execution_count": 17,
   "id": "fa77c0d5",
   "metadata": {
    "execution": {
     "iopub.execute_input": "2023-01-05T08:53:27.714031Z",
     "iopub.status.busy": "2023-01-05T08:53:27.713604Z",
     "iopub.status.idle": "2023-01-05T08:53:27.725669Z",
     "shell.execute_reply": "2023-01-05T08:53:27.724508Z"
    },
    "papermill": {
     "duration": 0.025926,
     "end_time": "2023-01-05T08:53:27.728145",
     "exception": false,
     "start_time": "2023-01-05T08:53:27.702219",
     "status": "completed"
    },
    "tags": []
   },
   "outputs": [
    {
     "data": {
      "text/plain": [
       "60.0"
      ]
     },
     "execution_count": 17,
     "metadata": {},
     "output_type": "execute_result"
    }
   ],
   "source": [
    "# 2.3.13. Получить две таблицы:\n",
    "# single_child - это все студенты у которых нет ни брата ни сестры\n",
    "# not_single_child - это все студенты у которых есть брат или сестра\n",
    "# Найдите медиану признака 'Social network duration min' (сколько времени студент проводит в соцсетях) отдельно для студентов таблицы  single_child  и таблицы not_single_child .\n",
    "# В ответ напишите, на сколько минут медиана для таблицы single_child  больше медианы для таблицы not_single_child. \n",
    "\n",
    "single_child = df[df[\"Brother-sister\"] == \"нет ни брата ни сестры\"]\n",
    "not_single_child = df[df[\"Brother-sister\"] != \"нет ни брата ни сестры\"]\n",
    "sc_median = single_child[\"Social network duration min\"].median()\n",
    "nsc_median = not_single_child[\"Social network duration min\"].median()\n",
    "sc_median - nsc_median"
   ]
  },
  {
   "cell_type": "code",
   "execution_count": 18,
   "id": "2670006a",
   "metadata": {
    "execution": {
     "iopub.execute_input": "2023-01-05T08:53:27.748440Z",
     "iopub.status.busy": "2023-01-05T08:53:27.747929Z",
     "iopub.status.idle": "2023-01-05T08:53:27.761663Z",
     "shell.execute_reply": "2023-01-05T08:53:27.760362Z"
    },
    "papermill": {
     "duration": 0.02702,
     "end_time": "2023-01-05T08:53:27.764184",
     "exception": false,
     "start_time": "2023-01-05T08:53:27.737164",
     "status": "completed"
    },
    "tags": []
   },
   "outputs": [
    {
     "data": {
      "text/plain": [
       "8.059154929577474"
      ]
     },
     "execution_count": 18,
     "metadata": {},
     "output_type": "execute_result"
    }
   ],
   "source": [
    "# 2.3.14. Создайте три таблицы:\n",
    "# KFC_persons - студенты, которые ходят в KFC\n",
    "# Burger_persons - студенты, которые ходят в Burger king\n",
    "# Mac_persons - студенты, которые ходят в Макдональдс (aka \"Вкусно и точка\")\n",
    "# Для каждой категории студентов подсчитайте средний вес студентов.\n",
    "# В ответ напишите: на сколько средний вес студентов из KFC превышает средний вес студентов из Макдональдса.\n",
    "\n",
    "df['Fastfood'].value_counts()\n",
    "\n",
    "KFC_persons = df[df['Fastfood']=='KFC']\n",
    "Burger_persons = df[df['Fastfood']=='Бургер кинг']\n",
    "Mac_persons = df[df['Fastfood']=='Макдональдс (или как он там сейчас называется?)']\n",
    "\n",
    "KFC_persons['Weight'].mean() - Mac_persons['Weight'].mean()"
   ]
  },
  {
   "cell_type": "code",
   "execution_count": 19,
   "id": "75d44922",
   "metadata": {
    "execution": {
     "iopub.execute_input": "2023-01-05T08:53:27.784925Z",
     "iopub.status.busy": "2023-01-05T08:53:27.784118Z",
     "iopub.status.idle": "2023-01-05T08:53:27.795555Z",
     "shell.execute_reply": "2023-01-05T08:53:27.793640Z"
    },
    "papermill": {
     "duration": 0.02444,
     "end_time": "2023-01-05T08:53:27.798193",
     "exception": false,
     "start_time": "2023-01-05T08:53:27.773753",
     "status": "completed"
    },
    "tags": []
   },
   "outputs": [
    {
     "name": "stdout",
     "output_type": "stream",
     "text": [
      "2003\n"
     ]
    }
   ],
   "source": [
    "# 2.4.7. Создайте \"обрезанную таблицу\" df_cut, состоящую из столбцов \"Год рождения\", \"Рост\", \"Вес\", \"Длина волос\", \"Размер обуви\".\n",
    "# Отсортируйте таблицу по возрастанию признака \"Размер обуви\". В ответ напишите год рождения студента, попавшего в первую строку отсортированной таблицы.\n",
    "\n",
    "df_cut = df[['Year of birth', 'Growth', 'Weight', 'Hair length', 'Shoe size']]\n",
    "res = df_cut.sort_values(by='Shoe size', ascending=True)\n",
    "# print(*res.loc[:, 'Year of birth'].head(1).tolist())\n",
    "print(*res.iloc[[0]]['Year of birth'])"
   ]
  },
  {
   "cell_type": "code",
   "execution_count": 20,
   "id": "571b793f",
   "metadata": {
    "execution": {
     "iopub.execute_input": "2023-01-05T08:53:27.819422Z",
     "iopub.status.busy": "2023-01-05T08:53:27.818566Z",
     "iopub.status.idle": "2023-01-05T08:53:27.828125Z",
     "shell.execute_reply": "2023-01-05T08:53:27.826502Z"
    },
    "papermill": {
     "duration": 0.023455,
     "end_time": "2023-01-05T08:53:27.830891",
     "exception": false,
     "start_time": "2023-01-05T08:53:27.807436",
     "status": "completed"
    },
    "tags": []
   },
   "outputs": [
    {
     "name": "stdout",
     "output_type": "stream",
     "text": [
      "2002\n"
     ]
    }
   ],
   "source": [
    "# 2.4.8. Создайте \"обрезанную таблицу\" df_cut, состоящую из столбцов \"Год рождения\", \"Рост\", \"Вес\", \"Длина волос\", \"Размер обуви\".\n",
    "# Отсортируйте таблицу по убыванию признака \"Размер обуви\". В ответ напишите год рождения студента, попавшего в третью строку отсортированной таблицы.\n",
    "\n",
    "df_cut = df[['Year of birth', 'Growth', 'Weight', 'Hair length', 'Shoe size']]\n",
    "res = df_cut.sort_values('Shoe size', ascending=False)\n",
    "print(*res.iloc[[2]]['Year of birth'])"
   ]
  },
  {
   "cell_type": "code",
   "execution_count": 21,
   "id": "d83eb75c",
   "metadata": {
    "execution": {
     "iopub.execute_input": "2023-01-05T08:53:27.852191Z",
     "iopub.status.busy": "2023-01-05T08:53:27.851760Z",
     "iopub.status.idle": "2023-01-05T08:53:27.865168Z",
     "shell.execute_reply": "2023-01-05T08:53:27.863559Z"
    },
    "papermill": {
     "duration": 0.027962,
     "end_time": "2023-01-05T08:53:27.868803",
     "exception": false,
     "start_time": "2023-01-05T08:53:27.840841",
     "status": "completed"
    },
    "tags": []
   },
   "outputs": [
    {
     "name": "stdout",
     "output_type": "stream",
     "text": [
      "1999\n"
     ]
    }
   ],
   "source": [
    "# 2.4.9. Создайте \"обрезанную таблицу\" df_cut, состоящую из столбцов \"Год рождения\", \"Рост\", \"Вес\", \"Длина волос\", \"Размер обуви\".\n",
    "# Отсортируйте таблицу по возрастанию признака \"Размер обуви\", а внутри группы студентов с одинаковым размером обуви сортировка должна производиться по возрастанию  признака \"Рост\".\n",
    "# В ответ напишите год рождения студента, попавшего в девятую строку отсортированной таблицы.\n",
    "\n",
    "df_cut = df[['Year of birth', 'Growth', 'Weight', 'Hair length', 'Shoe size']]\n",
    "res = df_cut.sort_values(['Shoe size', 'Growth'], ascending=[True, True])\n",
    "# print(*res.iloc[[8]]['Year of birth'])\n",
    "print(res.iloc[8, 0])"
   ]
  },
  {
   "cell_type": "code",
   "execution_count": 22,
   "id": "6cc0db80",
   "metadata": {
    "execution": {
     "iopub.execute_input": "2023-01-05T08:53:27.890754Z",
     "iopub.status.busy": "2023-01-05T08:53:27.889991Z",
     "iopub.status.idle": "2023-01-05T08:53:27.901057Z",
     "shell.execute_reply": "2023-01-05T08:53:27.899707Z"
    },
    "papermill": {
     "duration": 0.024955,
     "end_time": "2023-01-05T08:53:27.903567",
     "exception": false,
     "start_time": "2023-01-05T08:53:27.878612",
     "status": "completed"
    },
    "tags": []
   },
   "outputs": [
    {
     "name": "stdout",
     "output_type": "stream",
     "text": [
      "2002\n"
     ]
    }
   ],
   "source": [
    "# 2.4.10 Создайте \"обрезанную таблицу\" df_cut, состоящую из столбцов \"Год рождения\", \"Рост\", \"Вес\", \"Длина волос\", \"Размер обуви\".\n",
    "# Отсортируйте таблицу по возрастанию признака \"Размер обуви\", а внутри группы студентов с одинаковым размером обуви сортировка должна производиться по убыванию признака \"Рост\".\n",
    "# В ответ напишите год рождения студента, попавшего во вторую строку отсортированной таблицы.\n",
    "\n",
    "df_cut = df[['Year of birth', 'Growth', 'Weight', 'Hair length', 'Shoe size']]\n",
    "res = df_cut.sort_values(['Shoe size', 'Growth'], ascending=[True, False])     \n",
    "print(res.reset_index().loc[1, 'Year of birth'])"
   ]
  },
  {
   "cell_type": "code",
   "execution_count": 23,
   "id": "762fe8c9",
   "metadata": {
    "execution": {
     "iopub.execute_input": "2023-01-05T08:53:27.924683Z",
     "iopub.status.busy": "2023-01-05T08:53:27.923897Z",
     "iopub.status.idle": "2023-01-05T08:53:27.934902Z",
     "shell.execute_reply": "2023-01-05T08:53:27.933501Z"
    },
    "papermill": {
     "duration": 0.025222,
     "end_time": "2023-01-05T08:53:27.938022",
     "exception": false,
     "start_time": "2023-01-05T08:53:27.912800",
     "status": "completed"
    },
    "tags": []
   },
   "outputs": [
    {
     "name": "stdout",
     "output_type": "stream",
     "text": [
      "2003\n"
     ]
    }
   ],
   "source": [
    "# 2.4.11 Создайте \"обрезанную таблицу\" df_cut, состоящую из столбцов \"Год рождения\", \"Рост\", \"Вес\", \"Длина волос\", \"Размер обуви\".\n",
    "# Отсортируйте таблицу по убыванию признака \"Размер обуви\", а внутри группы студентов с одинаковым размером обуви сортировка должна производиться по возрастанию  признака \"Рост\".\n",
    "# В ответ напишите год рождения студента, попавшего во вторую строку отсортированной таблицы.\n",
    "\n",
    "df_cut = df[['Year of birth', 'Growth', 'Weight', 'Hair length', 'Shoe size']]\n",
    "res = df_cut.sort_values(by=['Shoe size', 'Growth'], ascending=[False, True])\n",
    "print(res.iloc[1, 0])"
   ]
  },
  {
   "cell_type": "code",
   "execution_count": 24,
   "id": "b8419634",
   "metadata": {
    "execution": {
     "iopub.execute_input": "2023-01-05T08:53:27.961159Z",
     "iopub.status.busy": "2023-01-05T08:53:27.960750Z",
     "iopub.status.idle": "2023-01-05T08:53:27.972784Z",
     "shell.execute_reply": "2023-01-05T08:53:27.971941Z"
    },
    "papermill": {
     "duration": 0.026305,
     "end_time": "2023-01-05T08:53:27.975926",
     "exception": false,
     "start_time": "2023-01-05T08:53:27.949621",
     "status": "completed"
    },
    "tags": []
   },
   "outputs": [
    {
     "name": "stderr",
     "output_type": "stream",
     "text": [
      "/opt/conda/lib/python3.7/site-packages/ipykernel_launcher.py:7: SettingWithCopyWarning: \n",
      "A value is trying to be set on a copy of a slice from a DataFrame.\n",
      "Try using .loc[row_indexer,col_indexer] = value instead\n",
      "\n",
      "See the caveats in the documentation: https://pandas.pydata.org/pandas-docs/stable/user_guide/indexing.html#returning-a-view-versus-a-copy\n",
      "  import sys\n"
     ]
    },
    {
     "data": {
      "text/plain": [
       "319.0"
      ]
     },
     "execution_count": 24,
     "metadata": {},
     "output_type": "execute_result"
    }
   ],
   "source": [
    "# 2.4.12 Создайте \"обрезанную таблицу\" df_cut, состоящую из столбцов \"Год рождения\", \"Рост\", \"Вес\", \"Длина волос\", \"Размер обуви\".\n",
    "# Допустим, что все студенты решили сделать себе прически типа \"Ирокез\".\n",
    "# Создайте новый столбец с названием 'Full length' (\"Полный рост\"), значения в котором равны сумме роста и длины волос. \n",
    "# Чему равно максимальное значение признака \"Полный рост\" для наших студентов?\n",
    "\n",
    "df_cut = df[['Year of birth', 'Growth', 'Weight', 'Hair length', 'Shoe size']]\n",
    "df_cut['Full length'] = df_cut['Growth'] + df_cut['Hair length']\n",
    "df_cut['Full length'].max()"
   ]
  },
  {
   "cell_type": "code",
   "execution_count": 25,
   "id": "966c00dc",
   "metadata": {
    "execution": {
     "iopub.execute_input": "2023-01-05T08:53:28.006883Z",
     "iopub.status.busy": "2023-01-05T08:53:28.006033Z",
     "iopub.status.idle": "2023-01-05T08:53:28.018088Z",
     "shell.execute_reply": "2023-01-05T08:53:28.016924Z"
    },
    "papermill": {
     "duration": 0.030102,
     "end_time": "2023-01-05T08:53:28.020929",
     "exception": false,
     "start_time": "2023-01-05T08:53:27.990827",
     "status": "completed"
    },
    "tags": []
   },
   "outputs": [
    {
     "data": {
      "text/plain": [
       "0.86"
      ]
     },
     "execution_count": 25,
     "metadata": {},
     "output_type": "execute_result"
    }
   ],
   "source": [
    "# 2.4.13 Создайте \"обрезанную таблицу\" df_cut, состоящую из столбцов \"Год рождения\", \"Рост\", \"Вес\", \"Длина волос\", \"Размер обуви\".\n",
    "# Выведите на экран таблицу со значениями коэффициента корреляции (КК). \n",
    "# Чему равен КК для признаков \"Рост\" и \"Размер обуви\"? Ответ округлить до двух знаков после запятой.\n",
    "\n",
    "df_cut = df[['Year of birth', 'Growth', 'Weight', 'Hair length', 'Shoe size']]\n",
    "round(df_cut[['Growth', 'Shoe size']].corr().iloc[0,1], 2)"
   ]
  },
  {
   "cell_type": "code",
   "execution_count": 26,
   "id": "69727131",
   "metadata": {
    "execution": {
     "iopub.execute_input": "2023-01-05T08:53:28.049167Z",
     "iopub.status.busy": "2023-01-05T08:53:28.048013Z",
     "iopub.status.idle": "2023-01-05T08:53:28.054195Z",
     "shell.execute_reply": "2023-01-05T08:53:28.052821Z"
    },
    "papermill": {
     "duration": 0.021193,
     "end_time": "2023-01-05T08:53:28.057156",
     "exception": false,
     "start_time": "2023-01-05T08:53:28.035963",
     "status": "completed"
    },
    "tags": []
   },
   "outputs": [],
   "source": [
    "# 3.2.4"
   ]
  }
 ],
 "metadata": {
  "kernelspec": {
   "display_name": "Python 3",
   "language": "python",
   "name": "python3"
  },
  "language_info": {
   "codemirror_mode": {
    "name": "ipython",
    "version": 3
   },
   "file_extension": ".py",
   "mimetype": "text/x-python",
   "name": "python",
   "nbconvert_exporter": "python",
   "pygments_lexer": "ipython3",
   "version": "3.7.12"
  },
  "papermill": {
   "default_parameters": {},
   "duration": 10.993772,
   "end_time": "2023-01-05T08:53:28.694882",
   "environment_variables": {},
   "exception": null,
   "input_path": "__notebook__.ipynb",
   "output_path": "__notebook__.ipynb",
   "parameters": {},
   "start_time": "2023-01-05T08:53:17.701110",
   "version": "2.3.4"
  }
 },
 "nbformat": 4,
 "nbformat_minor": 5
}
