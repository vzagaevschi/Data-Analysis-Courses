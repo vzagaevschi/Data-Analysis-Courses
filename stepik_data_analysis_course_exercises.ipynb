{
 "cells": [
  {
   "cell_type": "markdown",
   "id": "298f3756",
   "metadata": {
    "papermill": {
     "duration": 0.007453,
     "end_time": "2023-01-06T08:13:50.705893",
     "exception": false,
     "start_time": "2023-01-06T08:13:50.698440",
     "status": "completed"
    },
    "tags": []
   },
   "source": [
    "# Exercises from Stepik Course: \n",
    "## Анализ данных (Введение в Python и обработку таблиц)  \n",
    "## Data Analysis (Introduction to Python and Table Processing)"
   ]
  },
  {
   "cell_type": "code",
   "execution_count": 1,
   "id": "5c01a617",
   "metadata": {
    "_cell_guid": "b1076dfc-b9ad-4769-8c92-a6c4dae69d19",
    "_uuid": "8f2839f25d086af736a60e9eeb907d3b93b6e0e5",
    "execution": {
     "iopub.execute_input": "2023-01-06T08:13:50.721391Z",
     "iopub.status.busy": "2023-01-06T08:13:50.720857Z",
     "iopub.status.idle": "2023-01-06T08:13:50.749515Z",
     "shell.execute_reply": "2023-01-06T08:13:50.748544Z"
    },
    "papermill": {
     "duration": 0.039229,
     "end_time": "2023-01-06T08:13:50.751781",
     "exception": false,
     "start_time": "2023-01-06T08:13:50.712552",
     "status": "completed"
    },
    "tags": []
   },
   "outputs": [],
   "source": [
    "import pandas as pd \n",
    "\n",
    "df = pd.read_csv('../input/students-interview-fake-data/students.csv',delimiter=',')"
   ]
  },
  {
   "cell_type": "code",
   "execution_count": 2,
   "id": "48d3b847",
   "metadata": {
    "execution": {
     "iopub.execute_input": "2023-01-06T08:13:50.766175Z",
     "iopub.status.busy": "2023-01-06T08:13:50.765850Z",
     "iopub.status.idle": "2023-01-06T08:13:50.788743Z",
     "shell.execute_reply": "2023-01-06T08:13:50.787929Z"
    },
    "papermill": {
     "duration": 0.033054,
     "end_time": "2023-01-06T08:13:50.791508",
     "exception": false,
     "start_time": "2023-01-06T08:13:50.758454",
     "status": "completed"
    },
    "tags": []
   },
   "outputs": [
    {
     "name": "stdout",
     "output_type": "stream",
     "text": [
      "<class 'pandas.core.frame.DataFrame'>\n",
      "RangeIndex: 186 entries, 0 to 185\n",
      "Data columns (total 48 columns):\n",
      " #   Column                       Non-Null Count  Dtype  \n",
      "---  ------                       --------------  -----  \n",
      " 0   Age                          186 non-null    int64  \n",
      " 1   Growth                       186 non-null    int64  \n",
      " 2   Shoe size                    186 non-null    int64  \n",
      " 3   Course number                186 non-null    int64  \n",
      " 4   Year of birth                186 non-null    int64  \n",
      " 5   Friend number                186 non-null    int64  \n",
      " 6   Russian rating               186 non-null    int64  \n",
      " 7   Maths rating                 186 non-null    int64  \n",
      " 8   Physics rating               186 non-null    int64  \n",
      " 9   Computer science rating      186 non-null    int64  \n",
      " 10  Chemistry rating             186 non-null    int64  \n",
      " 11  Literature rating            186 non-null    int64  \n",
      " 12  History rating               186 non-null    int64  \n",
      " 13  Geography rating             186 non-null    int64  \n",
      " 14  Biology rating               186 non-null    int64  \n",
      " 15  Foreign language rating      186 non-null    int64  \n",
      " 16  Social science rating        186 non-null    int64  \n",
      " 17  Distance to home km          186 non-null    int64  \n",
      " 18  Minutes to first class       186 non-null    int64  \n",
      " 19  Children number              150 non-null    float64\n",
      " 20  Removed teeth                148 non-null    float64\n",
      " 21  Weight                       157 non-null    float64\n",
      " 22  Glasses                      184 non-null    object \n",
      " 23  Sex                          186 non-null    object \n",
      " 24  Problems in last semester    186 non-null    object \n",
      " 25  Coin                         186 non-null    object \n",
      " 26  Rock paper scissors          186 non-null    object \n",
      " 27  Animal                       186 non-null    object \n",
      " 28  Month of birthday            186 non-null    int64  \n",
      " 29  Your rating in university    186 non-null    object \n",
      " 30  Fastfood                     186 non-null    object \n",
      " 31  Height of 5000 mm            186 non-null    int64  \n",
      " 32  Width of 5000 mm             186 non-null    int64  \n",
      " 33  Putin age                    186 non-null    int64  \n",
      " 34  Army                         186 non-null    object \n",
      " 35  Hostel                       186 non-null    object \n",
      " 36  Hair length                  186 non-null    float64\n",
      " 37  Floor number                 186 non-null    int64  \n",
      " 38  Social network duration min  186 non-null    int64  \n",
      " 39  Chocolate                    186 non-null    object \n",
      " 40  City population              186 non-null    float64\n",
      " 41  Strange people               186 non-null    object \n",
      " 42  Your insitute                186 non-null    object \n",
      " 43  Brother-sister               186 non-null    object \n",
      " 44  Plane seat                   186 non-null    object \n",
      " 45  MIddle and index finger      186 non-null    int64  \n",
      " 46  Middle and ring finger       186 non-null    float64\n",
      " 47  Middle and little finger     186 non-null    float64\n",
      "dtypes: float64(7), int64(26), object(15)\n",
      "memory usage: 69.9+ KB\n"
     ]
    }
   ],
   "source": [
    "df.info()"
   ]
  },
  {
   "cell_type": "code",
   "execution_count": 3,
   "id": "96389109",
   "metadata": {
    "execution": {
     "iopub.execute_input": "2023-01-06T08:13:50.807653Z",
     "iopub.status.busy": "2023-01-06T08:13:50.807219Z",
     "iopub.status.idle": "2023-01-06T08:13:50.837461Z",
     "shell.execute_reply": "2023-01-06T08:13:50.836581Z"
    },
    "jupyter": {
     "source_hidden": true
    },
    "papermill": {
     "duration": 0.040318,
     "end_time": "2023-01-06T08:13:50.839579",
     "exception": false,
     "start_time": "2023-01-06T08:13:50.799261",
     "status": "completed"
    },
    "tags": []
   },
   "outputs": [
    {
     "data": {
      "text/html": [
       "<div>\n",
       "<style scoped>\n",
       "    .dataframe tbody tr th:only-of-type {\n",
       "        vertical-align: middle;\n",
       "    }\n",
       "\n",
       "    .dataframe tbody tr th {\n",
       "        vertical-align: top;\n",
       "    }\n",
       "\n",
       "    .dataframe thead th {\n",
       "        text-align: right;\n",
       "    }\n",
       "</style>\n",
       "<table border=\"1\" class=\"dataframe\">\n",
       "  <thead>\n",
       "    <tr style=\"text-align: right;\">\n",
       "      <th></th>\n",
       "      <th>Age</th>\n",
       "      <th>Growth</th>\n",
       "      <th>Shoe size</th>\n",
       "      <th>Course number</th>\n",
       "      <th>Year of birth</th>\n",
       "      <th>Friend number</th>\n",
       "      <th>Russian rating</th>\n",
       "      <th>Maths rating</th>\n",
       "      <th>Physics rating</th>\n",
       "      <th>Computer science rating</th>\n",
       "      <th>...</th>\n",
       "      <th>Social network duration min</th>\n",
       "      <th>Chocolate</th>\n",
       "      <th>City population</th>\n",
       "      <th>Strange people</th>\n",
       "      <th>Your insitute</th>\n",
       "      <th>Brother-sister</th>\n",
       "      <th>Plane seat</th>\n",
       "      <th>MIddle and index finger</th>\n",
       "      <th>Middle and ring finger</th>\n",
       "      <th>Middle and little finger</th>\n",
       "    </tr>\n",
       "  </thead>\n",
       "  <tbody>\n",
       "    <tr>\n",
       "      <th>0</th>\n",
       "      <td>20</td>\n",
       "      <td>170</td>\n",
       "      <td>40</td>\n",
       "      <td>2</td>\n",
       "      <td>2002</td>\n",
       "      <td>100</td>\n",
       "      <td>85</td>\n",
       "      <td>86</td>\n",
       "      <td>0</td>\n",
       "      <td>84</td>\n",
       "      <td>...</td>\n",
       "      <td>45</td>\n",
       "      <td>Сникерс</td>\n",
       "      <td>800000.0</td>\n",
       "      <td>Экономический</td>\n",
       "      <td>Математический и ИТ</td>\n",
       "      <td>нет ни брата ни сестры</td>\n",
       "      <td>У окна (пардон: у иллюминатора)</td>\n",
       "      <td>20</td>\n",
       "      <td>10.0</td>\n",
       "      <td>40.0</td>\n",
       "    </tr>\n",
       "    <tr>\n",
       "      <th>1</th>\n",
       "      <td>22</td>\n",
       "      <td>191</td>\n",
       "      <td>43</td>\n",
       "      <td>7</td>\n",
       "      <td>2000</td>\n",
       "      <td>307</td>\n",
       "      <td>69</td>\n",
       "      <td>74</td>\n",
       "      <td>64</td>\n",
       "      <td>72</td>\n",
       "      <td>...</td>\n",
       "      <td>180</td>\n",
       "      <td>КитКат</td>\n",
       "      <td>800000.0</td>\n",
       "      <td>Математический и ИТ</td>\n",
       "      <td>Математический и ИТ</td>\n",
       "      <td>есть и брат и сестра</td>\n",
       "      <td>В середине</td>\n",
       "      <td>5</td>\n",
       "      <td>5.0</td>\n",
       "      <td>20.0</td>\n",
       "    </tr>\n",
       "    <tr>\n",
       "      <th>2</th>\n",
       "      <td>21</td>\n",
       "      <td>172</td>\n",
       "      <td>41</td>\n",
       "      <td>4</td>\n",
       "      <td>2000</td>\n",
       "      <td>186</td>\n",
       "      <td>78</td>\n",
       "      <td>62</td>\n",
       "      <td>0</td>\n",
       "      <td>0</td>\n",
       "      <td>...</td>\n",
       "      <td>90</td>\n",
       "      <td>КитКат</td>\n",
       "      <td>770000.0</td>\n",
       "      <td>Педагогический</td>\n",
       "      <td>Другое</td>\n",
       "      <td>есть брат</td>\n",
       "      <td>У окна (пардон: у иллюминатора)</td>\n",
       "      <td>13</td>\n",
       "      <td>10.0</td>\n",
       "      <td>26.0</td>\n",
       "    </tr>\n",
       "    <tr>\n",
       "      <th>3</th>\n",
       "      <td>19</td>\n",
       "      <td>168</td>\n",
       "      <td>38</td>\n",
       "      <td>2</td>\n",
       "      <td>2003</td>\n",
       "      <td>604</td>\n",
       "      <td>72</td>\n",
       "      <td>0</td>\n",
       "      <td>0</td>\n",
       "      <td>0</td>\n",
       "      <td>...</td>\n",
       "      <td>200</td>\n",
       "      <td>Баунти</td>\n",
       "      <td>900000.0</td>\n",
       "      <td>СоцГум</td>\n",
       "      <td>Юридический</td>\n",
       "      <td>есть сестра</td>\n",
       "      <td>У окна (пардон: у иллюминатора)</td>\n",
       "      <td>12</td>\n",
       "      <td>13.5</td>\n",
       "      <td>35.0</td>\n",
       "    </tr>\n",
       "    <tr>\n",
       "      <th>4</th>\n",
       "      <td>23</td>\n",
       "      <td>159</td>\n",
       "      <td>36</td>\n",
       "      <td>1</td>\n",
       "      <td>1998</td>\n",
       "      <td>144</td>\n",
       "      <td>0</td>\n",
       "      <td>0</td>\n",
       "      <td>0</td>\n",
       "      <td>0</td>\n",
       "      <td>...</td>\n",
       "      <td>400</td>\n",
       "      <td>Баунти</td>\n",
       "      <td>860000.0</td>\n",
       "      <td>Педагогический</td>\n",
       "      <td>Педагогический</td>\n",
       "      <td>есть сестра</td>\n",
       "      <td>У окна (пардон: у иллюминатора)</td>\n",
       "      <td>10</td>\n",
       "      <td>11.0</td>\n",
       "      <td>22.0</td>\n",
       "    </tr>\n",
       "  </tbody>\n",
       "</table>\n",
       "<p>5 rows × 48 columns</p>\n",
       "</div>"
      ],
      "text/plain": [
       "   Age  Growth  Shoe size  Course number  Year of birth  Friend number  \\\n",
       "0   20     170         40              2           2002            100   \n",
       "1   22     191         43              7           2000            307   \n",
       "2   21     172         41              4           2000            186   \n",
       "3   19     168         38              2           2003            604   \n",
       "4   23     159         36              1           1998            144   \n",
       "\n",
       "   Russian rating  Maths rating  Physics rating  Computer science rating  ...  \\\n",
       "0              85            86               0                       84  ...   \n",
       "1              69            74              64                       72  ...   \n",
       "2              78            62               0                        0  ...   \n",
       "3              72             0               0                        0  ...   \n",
       "4               0             0               0                        0  ...   \n",
       "\n",
       "   Social network duration min  Chocolate  City population  \\\n",
       "0                           45    Сникерс         800000.0   \n",
       "1                          180     КитКат         800000.0   \n",
       "2                           90     КитКат         770000.0   \n",
       "3                          200     Баунти         900000.0   \n",
       "4                          400     Баунти         860000.0   \n",
       "\n",
       "        Strange people        Your insitute          Brother-sister  \\\n",
       "0        Экономический  Математический и ИТ  нет ни брата ни сестры   \n",
       "1  Математический и ИТ  Математический и ИТ    есть и брат и сестра   \n",
       "2       Педагогический               Другое               есть брат   \n",
       "3               СоцГум          Юридический             есть сестра   \n",
       "4       Педагогический       Педагогический             есть сестра   \n",
       "\n",
       "                        Plane seat  MIddle and index finger  \\\n",
       "0  У окна (пардон: у иллюминатора)                       20   \n",
       "1                       В середине                        5   \n",
       "2  У окна (пардон: у иллюминатора)                       13   \n",
       "3  У окна (пардон: у иллюминатора)                       12   \n",
       "4  У окна (пардон: у иллюминатора)                       10   \n",
       "\n",
       "   Middle and ring finger  Middle and little finger  \n",
       "0                    10.0                      40.0  \n",
       "1                     5.0                      20.0  \n",
       "2                    10.0                      26.0  \n",
       "3                    13.5                      35.0  \n",
       "4                    11.0                      22.0  \n",
       "\n",
       "[5 rows x 48 columns]"
      ]
     },
     "execution_count": 3,
     "metadata": {},
     "output_type": "execute_result"
    }
   ],
   "source": [
    "df.head()"
   ]
  },
  {
   "cell_type": "code",
   "execution_count": 4,
   "id": "3ec50a6e",
   "metadata": {
    "execution": {
     "iopub.execute_input": "2023-01-06T08:13:50.855235Z",
     "iopub.status.busy": "2023-01-06T08:13:50.854881Z",
     "iopub.status.idle": "2023-01-06T08:13:50.860719Z",
     "shell.execute_reply": "2023-01-06T08:13:50.859875Z"
    },
    "papermill": {
     "duration": 0.015938,
     "end_time": "2023-01-06T08:13:50.862555",
     "exception": false,
     "start_time": "2023-01-06T08:13:50.846617",
     "status": "completed"
    },
    "tags": []
   },
   "outputs": [
    {
     "data": {
      "text/plain": [
       "169"
      ]
     },
     "execution_count": 4,
     "metadata": {},
     "output_type": "execute_result"
    }
   ],
   "source": [
    "# 2.1.15. Какой рост у человека с индексом 12 в таблице?\n",
    "\n",
    "df.iloc[12]['Growth']"
   ]
  },
  {
   "cell_type": "code",
   "execution_count": 5,
   "id": "59df1d4b",
   "metadata": {
    "execution": {
     "iopub.execute_input": "2023-01-06T08:13:50.880515Z",
     "iopub.status.busy": "2023-01-06T08:13:50.879076Z",
     "iopub.status.idle": "2023-01-06T08:13:50.886283Z",
     "shell.execute_reply": "2023-01-06T08:13:50.885548Z"
    },
    "papermill": {
     "duration": 0.018427,
     "end_time": "2023-01-06T08:13:50.888086",
     "exception": false,
     "start_time": "2023-01-06T08:13:50.869659",
     "status": "completed"
    },
    "tags": []
   },
   "outputs": [
    {
     "data": {
      "text/plain": [
       "161"
      ]
     },
     "execution_count": 5,
     "metadata": {},
     "output_type": "execute_result"
    }
   ],
   "source": [
    "# 2.1.16. Какой рост у восемнадцатого человека с конца таблицы?\n",
    "\n",
    "df.iloc[-18]['Growth']"
   ]
  },
  {
   "cell_type": "code",
   "execution_count": 6,
   "id": "6ff9bd22",
   "metadata": {
    "execution": {
     "iopub.execute_input": "2023-01-06T08:13:50.905573Z",
     "iopub.status.busy": "2023-01-06T08:13:50.904282Z",
     "iopub.status.idle": "2023-01-06T08:13:50.911531Z",
     "shell.execute_reply": "2023-01-06T08:13:50.910865Z"
    },
    "papermill": {
     "duration": 0.017586,
     "end_time": "2023-01-06T08:13:50.913263",
     "exception": false,
     "start_time": "2023-01-06T08:13:50.895677",
     "status": "completed"
    },
    "tags": []
   },
   "outputs": [
    {
     "data": {
      "text/plain": [
       "64.03"
      ]
     },
     "execution_count": 6,
     "metadata": {},
     "output_type": "execute_result"
    }
   ],
   "source": [
    "# 2.2.5. Чему равно среднее значение веса студентов? Дать ответ с погрешностью 0.01\n",
    "\n",
    "df['Weight'].mean().round(2)"
   ]
  },
  {
   "cell_type": "code",
   "execution_count": 7,
   "id": "fcc33652",
   "metadata": {
    "execution": {
     "iopub.execute_input": "2023-01-06T08:13:50.930043Z",
     "iopub.status.busy": "2023-01-06T08:13:50.929110Z",
     "iopub.status.idle": "2023-01-06T08:13:50.936772Z",
     "shell.execute_reply": "2023-01-06T08:13:50.935975Z"
    },
    "papermill": {
     "duration": 0.017926,
     "end_time": "2023-01-06T08:13:50.938607",
     "exception": false,
     "start_time": "2023-01-06T08:13:50.920681",
     "status": "completed"
    },
    "tags": []
   },
   "outputs": [
    {
     "data": {
      "text/plain": [
       "60.0"
      ]
     },
     "execution_count": 7,
     "metadata": {},
     "output_type": "execute_result"
    }
   ],
   "source": [
    "# 2.2.6. Чему равно медианное значение веса студентов?\n",
    "\n",
    "df['Weight'].median()"
   ]
  },
  {
   "cell_type": "code",
   "execution_count": 8,
   "id": "fc96f039",
   "metadata": {
    "execution": {
     "iopub.execute_input": "2023-01-06T08:13:50.955794Z",
     "iopub.status.busy": "2023-01-06T08:13:50.955468Z",
     "iopub.status.idle": "2023-01-06T08:13:50.961905Z",
     "shell.execute_reply": "2023-01-06T08:13:50.960988Z"
    },
    "papermill": {
     "duration": 0.017151,
     "end_time": "2023-01-06T08:13:50.963622",
     "exception": false,
     "start_time": "2023-01-06T08:13:50.946471",
     "status": "completed"
    },
    "tags": []
   },
   "outputs": [
    {
     "data": {
      "text/plain": [
       "3.0"
      ]
     },
     "execution_count": 8,
     "metadata": {},
     "output_type": "execute_result"
    }
   ],
   "source": [
    "# 2.2.7. Чему равен вес самого \"лёгкого\" студента. Спойлер: у этого студента есть чувство юмора.\n",
    "\n",
    "df['Weight'].min()"
   ]
  },
  {
   "cell_type": "code",
   "execution_count": 9,
   "id": "f8f4aa75",
   "metadata": {
    "execution": {
     "iopub.execute_input": "2023-01-06T08:13:50.980704Z",
     "iopub.status.busy": "2023-01-06T08:13:50.980207Z",
     "iopub.status.idle": "2023-01-06T08:13:50.985935Z",
     "shell.execute_reply": "2023-01-06T08:13:50.985202Z"
    },
    "papermill": {
     "duration": 0.016235,
     "end_time": "2023-01-06T08:13:50.987691",
     "exception": false,
     "start_time": "2023-01-06T08:13:50.971456",
     "status": "completed"
    },
    "tags": []
   },
   "outputs": [
    {
     "data": {
      "text/plain": [
       "120.0"
      ]
     },
     "execution_count": 9,
     "metadata": {},
     "output_type": "execute_result"
    }
   ],
   "source": [
    "# 2.2.8. Чему равно максимальное значение веса студента в таблице?\n",
    "\n",
    "df['Weight'].max()"
   ]
  },
  {
   "cell_type": "code",
   "execution_count": 10,
   "id": "c1bb66bb",
   "metadata": {
    "execution": {
     "iopub.execute_input": "2023-01-06T08:13:51.003996Z",
     "iopub.status.busy": "2023-01-06T08:13:51.003669Z",
     "iopub.status.idle": "2023-01-06T08:13:51.009965Z",
     "shell.execute_reply": "2023-01-06T08:13:51.009332Z"
    },
    "papermill": {
     "duration": 0.016365,
     "end_time": "2023-01-06T08:13:51.011592",
     "exception": false,
     "start_time": "2023-01-06T08:13:50.995227",
     "status": "completed"
    },
    "tags": []
   },
   "outputs": [
    {
     "data": {
      "text/plain": [
       "88"
      ]
     },
     "execution_count": 10,
     "metadata": {},
     "output_type": "execute_result"
    }
   ],
   "source": [
    "# 2.2.9. Сколько людей выбирает \"Ножницы\" при игре в \"Камень-Ножницы-Бумагу\"?\n",
    "\n",
    "df['Rock paper scissors'][df['Rock paper scissors']=='Ножницы'].count()"
   ]
  },
  {
   "cell_type": "code",
   "execution_count": 11,
   "id": "cb3b7d77",
   "metadata": {
    "execution": {
     "iopub.execute_input": "2023-01-06T08:13:51.028388Z",
     "iopub.status.busy": "2023-01-06T08:13:51.027821Z",
     "iopub.status.idle": "2023-01-06T08:13:51.035233Z",
     "shell.execute_reply": "2023-01-06T08:13:51.034372Z"
    },
    "papermill": {
     "duration": 0.017846,
     "end_time": "2023-01-06T08:13:51.037076",
     "exception": false,
     "start_time": "2023-01-06T08:13:51.019230",
     "status": "completed"
    },
    "tags": []
   },
   "outputs": [
    {
     "data": {
      "text/plain": [
       "Ножницы    88\n",
       "Камень     60\n",
       "Бумага     38\n",
       "Name: Rock paper scissors, dtype: int64"
      ]
     },
     "execution_count": 11,
     "metadata": {},
     "output_type": "execute_result"
    }
   ],
   "source": [
    "# 2.2.10. Вы можете узнать, сколько студентов выбирают камень, ножницы или бумагу в игре. Зная эту информацию, какую фигуру выгоднее всего выбирать в игре?\n",
    "\n",
    "df['Rock paper scissors'].value_counts()\n",
    "\n",
    "# result - Камень"
   ]
  },
  {
   "cell_type": "code",
   "execution_count": 12,
   "id": "ccab2134",
   "metadata": {
    "execution": {
     "iopub.execute_input": "2023-01-06T08:13:51.055451Z",
     "iopub.status.busy": "2023-01-06T08:13:51.054599Z",
     "iopub.status.idle": "2023-01-06T08:13:51.061076Z",
     "shell.execute_reply": "2023-01-06T08:13:51.059963Z"
    },
    "papermill": {
     "duration": 0.017472,
     "end_time": "2023-01-06T08:13:51.062919",
     "exception": false,
     "start_time": "2023-01-06T08:13:51.045447",
     "status": "completed"
    },
    "tags": []
   },
   "outputs": [
    {
     "name": "stdout",
     "output_type": "stream",
     "text": [
      "58.0 женский\n"
     ]
    }
   ],
   "source": [
    "# 2.2.11 Чему равен вес десятого по счету человека в таблице и какой у него пол? \n",
    "\n",
    "# df[['Weight', 'Sex']].loc[9]\n",
    "# df.loc[9, ['Weight', 'Sex']]\n",
    "\n",
    "print(df.iloc[9]['Weight'], df.iloc[9]['Sex'])"
   ]
  },
  {
   "cell_type": "code",
   "execution_count": 13,
   "id": "a1b6b821",
   "metadata": {
    "execution": {
     "iopub.execute_input": "2023-01-06T08:13:51.083481Z",
     "iopub.status.busy": "2023-01-06T08:13:51.082978Z",
     "iopub.status.idle": "2023-01-06T08:13:51.089748Z",
     "shell.execute_reply": "2023-01-06T08:13:51.089058Z"
    },
    "papermill": {
     "duration": 0.019873,
     "end_time": "2023-01-06T08:13:51.091346",
     "exception": false,
     "start_time": "2023-01-06T08:13:51.071473",
     "status": "completed"
    },
    "tags": []
   },
   "outputs": [
    {
     "data": {
      "text/plain": [
       "7    180\n",
       "Name: Growth, dtype: int64"
      ]
     },
     "execution_count": 13,
     "metadata": {},
     "output_type": "execute_result"
    }
   ],
   "source": [
    "# 2.3.9. Чему равен рост человека с максимальным весом?\n",
    "\n",
    "# df.loc[df.Weight.idxmax(), 'Growth']\n",
    "# df.query(\"Weight==Weight.max()\").Growth\n",
    "\n",
    "df['Growth'][df['Weight']==df['Weight'].max()]"
   ]
  },
  {
   "cell_type": "code",
   "execution_count": 14,
   "id": "9538d990",
   "metadata": {
    "execution": {
     "iopub.execute_input": "2023-01-06T08:13:51.108955Z",
     "iopub.status.busy": "2023-01-06T08:13:51.108610Z",
     "iopub.status.idle": "2023-01-06T08:13:51.117112Z",
     "shell.execute_reply": "2023-01-06T08:13:51.116252Z"
    },
    "papermill": {
     "duration": 0.019302,
     "end_time": "2023-01-06T08:13:51.118832",
     "exception": false,
     "start_time": "2023-01-06T08:13:51.099530",
     "status": "completed"
    },
    "tags": []
   },
   "outputs": [
    {
     "name": "stdout",
     "output_type": "stream",
     "text": [
      "11.045945945945945\n"
     ]
    }
   ],
   "source": [
    "# 2.3.10. Создайте две новых таблицы: army_persons - это все студенты, которых могут призвать в армию из-за отчисления, и free_persons - это те, кого не призовут.\n",
    "# Подсчитайте среднюю длину волос у студентов таблиц army_persons и free_persons. Верна ли гипотеза: \"Чтобы избежать призыва, нужно всего-лишь отрастить волосы подлиннее\"?\n",
    "# В ответ запишите среднюю длину волос студентов из army_persons. \n",
    "\n",
    "df['Army'].value_counts()\n",
    "free_persons = df[df['Army'] != 'могут призвать']\n",
    "free_persons['Hair length'].mean()\n",
    "army_persons = df[df['Army'] == 'могут призвать']\n",
    "result = army_persons['Hair length'].mean()\n",
    "print(result)"
   ]
  },
  {
   "cell_type": "code",
   "execution_count": 15,
   "id": "683f323f",
   "metadata": {
    "execution": {
     "iopub.execute_input": "2023-01-06T08:13:51.136236Z",
     "iopub.status.busy": "2023-01-06T08:13:51.135895Z",
     "iopub.status.idle": "2023-01-06T08:13:51.143516Z",
     "shell.execute_reply": "2023-01-06T08:13:51.142763Z"
    },
    "papermill": {
     "duration": 0.018168,
     "end_time": "2023-01-06T08:13:51.145153",
     "exception": false,
     "start_time": "2023-01-06T08:13:51.126985",
     "status": "completed"
    },
    "tags": []
   },
   "outputs": [
    {
     "data": {
      "text/plain": [
       "мужской    1\n",
       "женский    1\n",
       "Name: Sex, dtype: int64"
      ]
     },
     "execution_count": 15,
     "metadata": {},
     "output_type": "execute_result"
    }
   ],
   "source": [
    "# 2.3.11. Найдите всех студентов, к которых 0 друзей в социальных сетях. Сколько среди них женщин и мужчин?\n",
    "# Запишите количество мужчин среди них.\n",
    "\n",
    "df[df['Friend number']==0]['Sex'].value_counts()"
   ]
  },
  {
   "cell_type": "code",
   "execution_count": 16,
   "id": "487d8d2f",
   "metadata": {
    "execution": {
     "iopub.execute_input": "2023-01-06T08:13:51.162784Z",
     "iopub.status.busy": "2023-01-06T08:13:51.162460Z",
     "iopub.status.idle": "2023-01-06T08:13:51.170043Z",
     "shell.execute_reply": "2023-01-06T08:13:51.169260Z"
    },
    "papermill": {
     "duration": 0.018786,
     "end_time": "2023-01-06T08:13:51.172129",
     "exception": false,
     "start_time": "2023-01-06T08:13:51.153343",
     "status": "completed"
    },
    "tags": []
   },
   "outputs": [
    {
     "data": {
      "text/plain": [
       "12"
      ]
     },
     "execution_count": 16,
     "metadata": {},
     "output_type": "execute_result"
    }
   ],
   "source": [
    "# 2.3.12. Проверим гипотезу: \"Любители собак в основном живут на нижних этажах домов\" (типа иначе выгуливать лень). \n",
    "# Создайте таблицу dog_lovers - это все студенты, которые любят собак. \n",
    "# В ответ запишите долю (процент) из них, которые живут на первом этаже. Ответ округлить до целого количества процентов. \n",
    "\n",
    "dog_lovers = df[df.Animal == 'Собак']\n",
    "round(len(dog_lovers[dog_lovers['Floor number'] == 1]) / len(dog_lovers) * 100)"
   ]
  },
  {
   "cell_type": "code",
   "execution_count": 17,
   "id": "24cc9655",
   "metadata": {
    "execution": {
     "iopub.execute_input": "2023-01-06T08:13:51.190298Z",
     "iopub.status.busy": "2023-01-06T08:13:51.189497Z",
     "iopub.status.idle": "2023-01-06T08:13:51.198836Z",
     "shell.execute_reply": "2023-01-06T08:13:51.198090Z"
    },
    "papermill": {
     "duration": 0.020216,
     "end_time": "2023-01-06T08:13:51.200659",
     "exception": false,
     "start_time": "2023-01-06T08:13:51.180443",
     "status": "completed"
    },
    "tags": []
   },
   "outputs": [
    {
     "data": {
      "text/plain": [
       "60.0"
      ]
     },
     "execution_count": 17,
     "metadata": {},
     "output_type": "execute_result"
    }
   ],
   "source": [
    "# 2.3.13. Получить две таблицы:\n",
    "# single_child - это все студенты у которых нет ни брата ни сестры\n",
    "# not_single_child - это все студенты у которых есть брат или сестра\n",
    "# Найдите медиану признака 'Social network duration min' (сколько времени студент проводит в соцсетях) отдельно для студентов таблицы  single_child  и таблицы not_single_child .\n",
    "# В ответ напишите, на сколько минут медиана для таблицы single_child  больше медианы для таблицы not_single_child. \n",
    "\n",
    "single_child = df[df[\"Brother-sister\"] == \"нет ни брата ни сестры\"]\n",
    "not_single_child = df[df[\"Brother-sister\"] != \"нет ни брата ни сестры\"]\n",
    "sc_median = single_child[\"Social network duration min\"].median()\n",
    "nsc_median = not_single_child[\"Social network duration min\"].median()\n",
    "sc_median - nsc_median"
   ]
  },
  {
   "cell_type": "code",
   "execution_count": 18,
   "id": "a9d1f7a2",
   "metadata": {
    "execution": {
     "iopub.execute_input": "2023-01-06T08:13:51.219705Z",
     "iopub.status.busy": "2023-01-06T08:13:51.218819Z",
     "iopub.status.idle": "2023-01-06T08:13:51.229405Z",
     "shell.execute_reply": "2023-01-06T08:13:51.228509Z"
    },
    "papermill": {
     "duration": 0.021963,
     "end_time": "2023-01-06T08:13:51.231271",
     "exception": false,
     "start_time": "2023-01-06T08:13:51.209308",
     "status": "completed"
    },
    "tags": []
   },
   "outputs": [
    {
     "data": {
      "text/plain": [
       "8.059154929577474"
      ]
     },
     "execution_count": 18,
     "metadata": {},
     "output_type": "execute_result"
    }
   ],
   "source": [
    "# 2.3.14. Создайте три таблицы:\n",
    "# KFC_persons - студенты, которые ходят в KFC\n",
    "# Burger_persons - студенты, которые ходят в Burger king\n",
    "# Mac_persons - студенты, которые ходят в Макдональдс (aka \"Вкусно и точка\")\n",
    "# Для каждой категории студентов подсчитайте средний вес студентов.\n",
    "# В ответ напишите: на сколько средний вес студентов из KFC превышает средний вес студентов из Макдональдса.\n",
    "\n",
    "df['Fastfood'].value_counts()\n",
    "\n",
    "KFC_persons = df[df['Fastfood']=='KFC']\n",
    "Burger_persons = df[df['Fastfood']=='Бургер кинг']\n",
    "Mac_persons = df[df['Fastfood']=='Макдональдс (или как он там сейчас называется?)']\n",
    "\n",
    "KFC_persons['Weight'].mean() - Mac_persons['Weight'].mean()"
   ]
  },
  {
   "cell_type": "code",
   "execution_count": 19,
   "id": "99fb171f",
   "metadata": {
    "execution": {
     "iopub.execute_input": "2023-01-06T08:13:51.250088Z",
     "iopub.status.busy": "2023-01-06T08:13:51.249535Z",
     "iopub.status.idle": "2023-01-06T08:13:51.257092Z",
     "shell.execute_reply": "2023-01-06T08:13:51.256073Z"
    },
    "papermill": {
     "duration": 0.019534,
     "end_time": "2023-01-06T08:13:51.259361",
     "exception": false,
     "start_time": "2023-01-06T08:13:51.239827",
     "status": "completed"
    },
    "tags": []
   },
   "outputs": [
    {
     "name": "stdout",
     "output_type": "stream",
     "text": [
      "2003\n"
     ]
    }
   ],
   "source": [
    "# 2.4.7. Создайте \"обрезанную таблицу\" df_cut, состоящую из столбцов \"Год рождения\", \"Рост\", \"Вес\", \"Длина волос\", \"Размер обуви\".\n",
    "# Отсортируйте таблицу по возрастанию признака \"Размер обуви\". В ответ напишите год рождения студента, попавшего в первую строку отсортированной таблицы.\n",
    "\n",
    "df_cut = df[['Year of birth', 'Growth', 'Weight', 'Hair length', 'Shoe size']]\n",
    "res = df_cut.sort_values(by='Shoe size', ascending=True)\n",
    "# print(*res.loc[:, 'Year of birth'].head(1).tolist())\n",
    "print(*res.iloc[[0]]['Year of birth'])"
   ]
  },
  {
   "cell_type": "code",
   "execution_count": 20,
   "id": "d2036a20",
   "metadata": {
    "execution": {
     "iopub.execute_input": "2023-01-06T08:13:51.277713Z",
     "iopub.status.busy": "2023-01-06T08:13:51.276904Z",
     "iopub.status.idle": "2023-01-06T08:13:51.284896Z",
     "shell.execute_reply": "2023-01-06T08:13:51.283791Z"
    },
    "papermill": {
     "duration": 0.018949,
     "end_time": "2023-01-06T08:13:51.286742",
     "exception": false,
     "start_time": "2023-01-06T08:13:51.267793",
     "status": "completed"
    },
    "tags": []
   },
   "outputs": [
    {
     "name": "stdout",
     "output_type": "stream",
     "text": [
      "2002\n"
     ]
    }
   ],
   "source": [
    "# 2.4.8. Создайте \"обрезанную таблицу\" df_cut, состоящую из столбцов \"Год рождения\", \"Рост\", \"Вес\", \"Длина волос\", \"Размер обуви\".\n",
    "# Отсортируйте таблицу по убыванию признака \"Размер обуви\". В ответ напишите год рождения студента, попавшего в третью строку отсортированной таблицы.\n",
    "\n",
    "df_cut = df[['Year of birth', 'Growth', 'Weight', 'Hair length', 'Shoe size']]\n",
    "res = df_cut.sort_values('Shoe size', ascending=False)\n",
    "print(*res.iloc[[2]]['Year of birth'])"
   ]
  },
  {
   "cell_type": "code",
   "execution_count": 21,
   "id": "090a25d2",
   "metadata": {
    "execution": {
     "iopub.execute_input": "2023-01-06T08:13:51.305731Z",
     "iopub.status.busy": "2023-01-06T08:13:51.305394Z",
     "iopub.status.idle": "2023-01-06T08:13:51.315068Z",
     "shell.execute_reply": "2023-01-06T08:13:51.313970Z"
    },
    "papermill": {
     "duration": 0.021032,
     "end_time": "2023-01-06T08:13:51.316746",
     "exception": false,
     "start_time": "2023-01-06T08:13:51.295714",
     "status": "completed"
    },
    "tags": []
   },
   "outputs": [
    {
     "name": "stdout",
     "output_type": "stream",
     "text": [
      "1999\n"
     ]
    }
   ],
   "source": [
    "# 2.4.9. Создайте \"обрезанную таблицу\" df_cut, состоящую из столбцов \"Год рождения\", \"Рост\", \"Вес\", \"Длина волос\", \"Размер обуви\".\n",
    "# Отсортируйте таблицу по возрастанию признака \"Размер обуви\", а внутри группы студентов с одинаковым размером обуви сортировка должна производиться по возрастанию  признака \"Рост\".\n",
    "# В ответ напишите год рождения студента, попавшего в девятую строку отсортированной таблицы.\n",
    "\n",
    "df_cut = df[['Year of birth', 'Growth', 'Weight', 'Hair length', 'Shoe size']]\n",
    "res = df_cut.sort_values(['Shoe size', 'Growth'], ascending=[True, True])\n",
    "# print(*res.iloc[[8]]['Year of birth'])\n",
    "print(res.iloc[8, 0])"
   ]
  },
  {
   "cell_type": "code",
   "execution_count": 22,
   "id": "7e6bd64e",
   "metadata": {
    "execution": {
     "iopub.execute_input": "2023-01-06T08:13:51.336314Z",
     "iopub.status.busy": "2023-01-06T08:13:51.335453Z",
     "iopub.status.idle": "2023-01-06T08:13:51.344792Z",
     "shell.execute_reply": "2023-01-06T08:13:51.343737Z"
    },
    "papermill": {
     "duration": 0.021228,
     "end_time": "2023-01-06T08:13:51.346827",
     "exception": false,
     "start_time": "2023-01-06T08:13:51.325599",
     "status": "completed"
    },
    "tags": []
   },
   "outputs": [
    {
     "name": "stdout",
     "output_type": "stream",
     "text": [
      "2002\n"
     ]
    }
   ],
   "source": [
    "# 2.4.10 Создайте \"обрезанную таблицу\" df_cut, состоящую из столбцов \"Год рождения\", \"Рост\", \"Вес\", \"Длина волос\", \"Размер обуви\".\n",
    "# Отсортируйте таблицу по возрастанию признака \"Размер обуви\", а внутри группы студентов с одинаковым размером обуви сортировка должна производиться по убыванию признака \"Рост\".\n",
    "# В ответ напишите год рождения студента, попавшего во вторую строку отсортированной таблицы.\n",
    "\n",
    "df_cut = df[['Year of birth', 'Growth', 'Weight', 'Hair length', 'Shoe size']]\n",
    "res = df_cut.sort_values(['Shoe size', 'Growth'], ascending=[True, False])     \n",
    "print(res.reset_index().loc[1, 'Year of birth'])"
   ]
  },
  {
   "cell_type": "code",
   "execution_count": 23,
   "id": "bb519667",
   "metadata": {
    "execution": {
     "iopub.execute_input": "2023-01-06T08:13:51.366789Z",
     "iopub.status.busy": "2023-01-06T08:13:51.365922Z",
     "iopub.status.idle": "2023-01-06T08:13:51.374455Z",
     "shell.execute_reply": "2023-01-06T08:13:51.373576Z"
    },
    "papermill": {
     "duration": 0.020521,
     "end_time": "2023-01-06T08:13:51.376412",
     "exception": false,
     "start_time": "2023-01-06T08:13:51.355891",
     "status": "completed"
    },
    "tags": []
   },
   "outputs": [
    {
     "name": "stdout",
     "output_type": "stream",
     "text": [
      "2003\n"
     ]
    }
   ],
   "source": [
    "# 2.4.11 Создайте \"обрезанную таблицу\" df_cut, состоящую из столбцов \"Год рождения\", \"Рост\", \"Вес\", \"Длина волос\", \"Размер обуви\".\n",
    "# Отсортируйте таблицу по убыванию признака \"Размер обуви\", а внутри группы студентов с одинаковым размером обуви сортировка должна производиться по возрастанию  признака \"Рост\".\n",
    "# В ответ напишите год рождения студента, попавшего во вторую строку отсортированной таблицы.\n",
    "\n",
    "df_cut = df[['Year of birth', 'Growth', 'Weight', 'Hair length', 'Shoe size']]\n",
    "res = df_cut.sort_values(by=['Shoe size', 'Growth'], ascending=[False, True])\n",
    "print(res.iloc[1, 0])"
   ]
  },
  {
   "cell_type": "code",
   "execution_count": 24,
   "id": "0d63b8dc",
   "metadata": {
    "execution": {
     "iopub.execute_input": "2023-01-06T08:13:51.395504Z",
     "iopub.status.busy": "2023-01-06T08:13:51.395176Z",
     "iopub.status.idle": "2023-01-06T08:13:51.404781Z",
     "shell.execute_reply": "2023-01-06T08:13:51.403939Z"
    },
    "papermill": {
     "duration": 0.021752,
     "end_time": "2023-01-06T08:13:51.407097",
     "exception": false,
     "start_time": "2023-01-06T08:13:51.385345",
     "status": "completed"
    },
    "tags": []
   },
   "outputs": [
    {
     "name": "stderr",
     "output_type": "stream",
     "text": [
      "/opt/conda/lib/python3.7/site-packages/ipykernel_launcher.py:7: SettingWithCopyWarning: \n",
      "A value is trying to be set on a copy of a slice from a DataFrame.\n",
      "Try using .loc[row_indexer,col_indexer] = value instead\n",
      "\n",
      "See the caveats in the documentation: https://pandas.pydata.org/pandas-docs/stable/user_guide/indexing.html#returning-a-view-versus-a-copy\n",
      "  import sys\n"
     ]
    },
    {
     "data": {
      "text/plain": [
       "319.0"
      ]
     },
     "execution_count": 24,
     "metadata": {},
     "output_type": "execute_result"
    }
   ],
   "source": [
    "# 2.4.12 Создайте \"обрезанную таблицу\" df_cut, состоящую из столбцов \"Год рождения\", \"Рост\", \"Вес\", \"Длина волос\", \"Размер обуви\".\n",
    "# Допустим, что все студенты решили сделать себе прически типа \"Ирокез\".\n",
    "# Создайте новый столбец с названием 'Full length' (\"Полный рост\"), значения в котором равны сумме роста и длины волос. \n",
    "# Чему равно максимальное значение признака \"Полный рост\" для наших студентов?\n",
    "\n",
    "df_cut = df[['Year of birth', 'Growth', 'Weight', 'Hair length', 'Shoe size']]\n",
    "df_cut['Full length'] = df_cut['Growth'] + df_cut['Hair length']\n",
    "df_cut['Full length'].max()"
   ]
  },
  {
   "cell_type": "code",
   "execution_count": 25,
   "id": "be56a140",
   "metadata": {
    "execution": {
     "iopub.execute_input": "2023-01-06T08:13:51.426631Z",
     "iopub.status.busy": "2023-01-06T08:13:51.426106Z",
     "iopub.status.idle": "2023-01-06T08:13:51.434215Z",
     "shell.execute_reply": "2023-01-06T08:13:51.433518Z"
    },
    "papermill": {
     "duration": 0.019886,
     "end_time": "2023-01-06T08:13:51.435869",
     "exception": false,
     "start_time": "2023-01-06T08:13:51.415983",
     "status": "completed"
    },
    "tags": []
   },
   "outputs": [
    {
     "data": {
      "text/plain": [
       "0.86"
      ]
     },
     "execution_count": 25,
     "metadata": {},
     "output_type": "execute_result"
    }
   ],
   "source": [
    "# 2.4.13 Создайте \"обрезанную таблицу\" df_cut, состоящую из столбцов \"Год рождения\", \"Рост\", \"Вес\", \"Длина волос\", \"Размер обуви\".\n",
    "# Выведите на экран таблицу со значениями коэффициента корреляции (КК). \n",
    "# Чему равен КК для признаков \"Рост\" и \"Размер обуви\"? Ответ округлить до двух знаков после запятой.\n",
    "\n",
    "df_cut = df[['Year of birth', 'Growth', 'Weight', 'Hair length', 'Shoe size']]\n",
    "round(df_cut[['Growth', 'Shoe size']].corr().iloc[0,1], 2)"
   ]
  },
  {
   "cell_type": "code",
   "execution_count": 26,
   "id": "73685de2",
   "metadata": {
    "execution": {
     "iopub.execute_input": "2023-01-06T08:13:51.455675Z",
     "iopub.status.busy": "2023-01-06T08:13:51.455068Z",
     "iopub.status.idle": "2023-01-06T08:13:51.461302Z",
     "shell.execute_reply": "2023-01-06T08:13:51.460602Z"
    },
    "papermill": {
     "duration": 0.018033,
     "end_time": "2023-01-06T08:13:51.463012",
     "exception": false,
     "start_time": "2023-01-06T08:13:51.444979",
     "status": "completed"
    },
    "tags": []
   },
   "outputs": [
    {
     "data": {
      "text/plain": [
       "36"
      ]
     },
     "execution_count": 26,
     "metadata": {},
     "output_type": "execute_result"
    }
   ],
   "source": [
    "# 3.2.4 Сколько людей не захотели заполнять признак \"Children number\"?\n",
    "\n",
    "df['Children number'].isna().sum()"
   ]
  },
  {
   "cell_type": "code",
   "execution_count": 27,
   "id": "2d3efe6d",
   "metadata": {
    "execution": {
     "iopub.execute_input": "2023-01-06T08:13:51.483240Z",
     "iopub.status.busy": "2023-01-06T08:13:51.482637Z",
     "iopub.status.idle": "2023-01-06T08:13:51.496860Z",
     "shell.execute_reply": "2023-01-06T08:13:51.495814Z"
    },
    "papermill": {
     "duration": 0.026185,
     "end_time": "2023-01-06T08:13:51.498478",
     "exception": false,
     "start_time": "2023-01-06T08:13:51.472293",
     "status": "completed"
    },
    "tags": []
   },
   "outputs": [
    {
     "name": "stderr",
     "output_type": "stream",
     "text": [
      "/opt/conda/lib/python3.7/site-packages/ipykernel_launcher.py:9: SettingWithCopyWarning: \n",
      "A value is trying to be set on a copy of a slice from a DataFrame.\n",
      "Try using .loc[row_indexer,col_indexer] = value instead\n",
      "\n",
      "See the caveats in the documentation: https://pandas.pydata.org/pandas-docs/stable/user_guide/indexing.html#returning-a-view-versus-a-copy\n",
      "  if __name__ == \"__main__\":\n",
      "/opt/conda/lib/python3.7/site-packages/ipykernel_launcher.py:10: SettingWithCopyWarning: \n",
      "A value is trying to be set on a copy of a slice from a DataFrame.\n",
      "Try using .loc[row_indexer,col_indexer] = value instead\n",
      "\n",
      "See the caveats in the documentation: https://pandas.pydata.org/pandas-docs/stable/user_guide/indexing.html#returning-a-view-versus-a-copy\n",
      "  # Remove the CWD from sys.path while we load stuff.\n"
     ]
    },
    {
     "data": {
      "text/plain": [
       "63.53"
      ]
     },
     "execution_count": 27,
     "metadata": {},
     "output_type": "execute_result"
    }
   ],
   "source": [
    "# 3.2.5 Будем заполнять пропуски в признаке \"Вес\". Разобьем нашу таблицу на две таблицы:\n",
    "# females=(все женщины из исходной таблицы), males=(все мужчины из исходной таблицы)\n",
    "# Далее в таблице females заполните пропуски в столбце \"Вес\", записав туда средний вес женщин. В таблице males заполните пропуски в столбце \"Вес\", записав туда средний вес мужчин.\n",
    "# Далее объедините таблицы males и females в одну. Далее в таблице df_new подсчитайте средний вес людей.\n",
    "\n",
    "females = df[df['Sex'] == 'женский']\n",
    "males = df[df['Sex'] == 'мужской']\n",
    "\n",
    "females['Weight'] = females['Weight'].fillna(females.Weight.mean())\n",
    "males['Weight'] = males['Weight'].fillna(males.Weight.mean())\n",
    "\n",
    "df_new = males.append(females)\n",
    "df_new.Weight.mean().round(2)"
   ]
  },
  {
   "cell_type": "code",
   "execution_count": 28,
   "id": "13b06787",
   "metadata": {
    "execution": {
     "iopub.execute_input": "2023-01-06T08:13:51.518398Z",
     "iopub.status.busy": "2023-01-06T08:13:51.517646Z",
     "iopub.status.idle": "2023-01-06T08:13:51.533802Z",
     "shell.execute_reply": "2023-01-06T08:13:51.533005Z"
    },
    "papermill": {
     "duration": 0.02801,
     "end_time": "2023-01-06T08:13:51.535597",
     "exception": false,
     "start_time": "2023-01-06T08:13:51.507587",
     "status": "completed"
    },
    "tags": []
   },
   "outputs": [
    {
     "data": {
      "text/plain": [
       "63.53"
      ]
     },
     "execution_count": 28,
     "metadata": {},
     "output_type": "execute_result"
    }
   ],
   "source": [
    "# 3.2.5 \n",
    "\n",
    "females = df[['Sex', 'Weight']].query('Sex==\"женский\"')\n",
    "females = females.fillna(value=females.Weight.mean())\n",
    "\n",
    "males = df[['Sex', 'Weight']].query('Sex==\"мужской\"')\n",
    "males = males.fillna(value=males.Weight.mean())\n",
    "\n",
    "round(pd.concat([females, males]).Weight.mean(), 2)"
   ]
  },
  {
   "cell_type": "code",
   "execution_count": 29,
   "id": "4c7cb99a",
   "metadata": {
    "execution": {
     "iopub.execute_input": "2023-01-06T08:13:51.555600Z",
     "iopub.status.busy": "2023-01-06T08:13:51.555287Z",
     "iopub.status.idle": "2023-01-06T08:13:51.572599Z",
     "shell.execute_reply": "2023-01-06T08:13:51.571573Z"
    },
    "papermill": {
     "duration": 0.029854,
     "end_time": "2023-01-06T08:13:51.574772",
     "exception": false,
     "start_time": "2023-01-06T08:13:51.544918",
     "status": "completed"
    },
    "tags": []
   },
   "outputs": [
    {
     "data": {
      "text/plain": [
       "2.0"
      ]
     },
     "execution_count": 29,
     "metadata": {},
     "output_type": "execute_result"
    }
   ],
   "source": [
    "# 3.2.6 Будем заполнять пропуски в признаке \"Желаемое число детей\" (\"Children number\"). Но не просто так. Разобьем нашу таблицу на две таблицы:\n",
    "# singles=(все, у кого нет ни брата ни сестры), sublings=(все, кто не попал в таблицу singles) \n",
    "# Далее в таблице singles заполните пропуски в столбце \"Children number\", записав туда медианное значение по этой таблице. Аналогично поступите с таблицей sublings. \n",
    "# Далее объедините таблицы singles и sublings в одну. Далее в таблице df_new подсчитайте медиану признака \"Children number\". \n",
    "\n",
    "singles = df[df['Brother-sister'] == 'нет ни брата ни сестры']\n",
    "siblings = df[df['Brother-sister'] != 'нет ни брата ни сестры']\n",
    "\n",
    "sing_median = singles['Children number'].median()\n",
    "sibl_median = siblings['Children number'].median()\n",
    "\n",
    "singles = singles.fillna(value=sing_median)\n",
    "siblings = siblings.fillna(value=sibl_median)\n",
    "\n",
    "df_new=singles.append(siblings )\n",
    "df_new['Children number'].median()"
   ]
  },
  {
   "cell_type": "code",
   "execution_count": 30,
   "id": "9c16d0bb",
   "metadata": {
    "execution": {
     "iopub.execute_input": "2023-01-06T08:13:51.595191Z",
     "iopub.status.busy": "2023-01-06T08:13:51.594571Z",
     "iopub.status.idle": "2023-01-06T08:13:51.606454Z",
     "shell.execute_reply": "2023-01-06T08:13:51.605642Z"
    },
    "papermill": {
     "duration": 0.023887,
     "end_time": "2023-01-06T08:13:51.608161",
     "exception": false,
     "start_time": "2023-01-06T08:13:51.584274",
     "status": "completed"
    },
    "tags": []
   },
   "outputs": [
    {
     "data": {
      "text/plain": [
       "2"
      ]
     },
     "execution_count": 30,
     "metadata": {},
     "output_type": "execute_result"
    }
   ],
   "source": [
    "# 3.2.6 \n",
    "\n",
    "df['single_child'] = df['Brother-sister'] == 'нет ни брата ни сестры'\n",
    "grp = df.groupby('single_child')['Children number'].median()\n",
    "for child in grp.index:\n",
    "    df.loc[(df['single_child'] == child) & \n",
    "           (df['Children number'].isna()), 'Children number'] = grp.loc[child]\n",
    "int(df['Children number'].median())"
   ]
  }
 ],
 "metadata": {
  "kernelspec": {
   "display_name": "Python 3",
   "language": "python",
   "name": "python3"
  },
  "language_info": {
   "codemirror_mode": {
    "name": "ipython",
    "version": 3
   },
   "file_extension": ".py",
   "mimetype": "text/x-python",
   "name": "python",
   "nbconvert_exporter": "python",
   "pygments_lexer": "ipython3",
   "version": "3.7.12"
  },
  "papermill": {
   "default_parameters": {},
   "duration": 7.968292,
   "end_time": "2023-01-06T08:13:52.135285",
   "environment_variables": {},
   "exception": null,
   "input_path": "__notebook__.ipynb",
   "output_path": "__notebook__.ipynb",
   "parameters": {},
   "start_time": "2023-01-06T08:13:44.166993",
   "version": "2.3.4"
  }
 },
 "nbformat": 4,
 "nbformat_minor": 5
}
