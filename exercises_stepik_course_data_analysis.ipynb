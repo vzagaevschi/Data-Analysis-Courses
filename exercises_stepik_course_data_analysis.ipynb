{
 "cells": [
  {
   "cell_type": "markdown",
   "id": "dd78fc86",
   "metadata": {
    "papermill": {
     "duration": 0.01134,
     "end_time": "2023-01-13T10:08:36.168055",
     "exception": false,
     "start_time": "2023-01-13T10:08:36.156715",
     "status": "completed"
    },
    "tags": []
   },
   "source": [
    "# Exercises from Stepik Course: \n",
    "## Анализ данных (Введение в Python и обработку таблиц)  \n",
    "## Data Analysis (Introduction to Python and Table Processing)"
   ]
  },
  {
   "cell_type": "code",
   "execution_count": 1,
   "id": "7cef5dea",
   "metadata": {
    "_cell_guid": "b1076dfc-b9ad-4769-8c92-a6c4dae69d19",
    "_uuid": "8f2839f25d086af736a60e9eeb907d3b93b6e0e5",
    "execution": {
     "iopub.execute_input": "2023-01-13T10:08:36.189445Z",
     "iopub.status.busy": "2023-01-13T10:08:36.188940Z",
     "iopub.status.idle": "2023-01-13T10:08:36.232247Z",
     "shell.execute_reply": "2023-01-13T10:08:36.230158Z"
    },
    "papermill": {
     "duration": 0.059055,
     "end_time": "2023-01-13T10:08:36.236927",
     "exception": false,
     "start_time": "2023-01-13T10:08:36.177872",
     "status": "completed"
    },
    "tags": []
   },
   "outputs": [],
   "source": [
    "import pandas as pd \n",
    "\n",
    "df = pd.read_csv('../input/students-interview-fake-data/students.csv',delimiter=',')\n",
    "df_test = pd.read_csv('../input/students-interview-fake-data/students_test.csv',delimiter=',')"
   ]
  },
  {
   "cell_type": "code",
   "execution_count": 2,
   "id": "08bd0c50",
   "metadata": {
    "execution": {
     "iopub.execute_input": "2023-01-13T10:08:36.265417Z",
     "iopub.status.busy": "2023-01-13T10:08:36.264229Z",
     "iopub.status.idle": "2023-01-13T10:08:36.300185Z",
     "shell.execute_reply": "2023-01-13T10:08:36.298997Z"
    },
    "papermill": {
     "duration": 0.053619,
     "end_time": "2023-01-13T10:08:36.304912",
     "exception": false,
     "start_time": "2023-01-13T10:08:36.251293",
     "status": "completed"
    },
    "tags": []
   },
   "outputs": [
    {
     "name": "stdout",
     "output_type": "stream",
     "text": [
      "<class 'pandas.core.frame.DataFrame'>\n",
      "RangeIndex: 186 entries, 0 to 185\n",
      "Data columns (total 48 columns):\n",
      " #   Column                       Non-Null Count  Dtype  \n",
      "---  ------                       --------------  -----  \n",
      " 0   Age                          186 non-null    int64  \n",
      " 1   Growth                       186 non-null    int64  \n",
      " 2   Shoe size                    186 non-null    int64  \n",
      " 3   Course number                186 non-null    int64  \n",
      " 4   Year of birth                186 non-null    int64  \n",
      " 5   Friend number                186 non-null    int64  \n",
      " 6   Russian rating               186 non-null    int64  \n",
      " 7   Maths rating                 186 non-null    int64  \n",
      " 8   Physics rating               186 non-null    int64  \n",
      " 9   Computer science rating      186 non-null    int64  \n",
      " 10  Chemistry rating             186 non-null    int64  \n",
      " 11  Literature rating            186 non-null    int64  \n",
      " 12  History rating               186 non-null    int64  \n",
      " 13  Geography rating             186 non-null    int64  \n",
      " 14  Biology rating               186 non-null    int64  \n",
      " 15  Foreign language rating      186 non-null    int64  \n",
      " 16  Social science rating        186 non-null    int64  \n",
      " 17  Distance to home km          186 non-null    int64  \n",
      " 18  Minutes to first class       186 non-null    int64  \n",
      " 19  Children number              150 non-null    float64\n",
      " 20  Removed teeth                148 non-null    float64\n",
      " 21  Weight                       157 non-null    float64\n",
      " 22  Glasses                      184 non-null    object \n",
      " 23  Sex                          186 non-null    object \n",
      " 24  Problems in last semester    186 non-null    object \n",
      " 25  Coin                         186 non-null    object \n",
      " 26  Rock paper scissors          186 non-null    object \n",
      " 27  Animal                       186 non-null    object \n",
      " 28  Month of birthday            186 non-null    int64  \n",
      " 29  Your rating in university    186 non-null    object \n",
      " 30  Fastfood                     186 non-null    object \n",
      " 31  Height of 5000 mm            186 non-null    int64  \n",
      " 32  Width of 5000 mm             186 non-null    int64  \n",
      " 33  Putin age                    186 non-null    int64  \n",
      " 34  Army                         186 non-null    object \n",
      " 35  Hostel                       186 non-null    object \n",
      " 36  Hair length                  186 non-null    float64\n",
      " 37  Floor number                 186 non-null    int64  \n",
      " 38  Social network duration min  186 non-null    int64  \n",
      " 39  Chocolate                    186 non-null    object \n",
      " 40  City population              186 non-null    float64\n",
      " 41  Strange people               186 non-null    object \n",
      " 42  Your insitute                186 non-null    object \n",
      " 43  Brother-sister               186 non-null    object \n",
      " 44  Plane seat                   186 non-null    object \n",
      " 45  MIddle and index finger      186 non-null    int64  \n",
      " 46  Middle and ring finger       186 non-null    float64\n",
      " 47  Middle and little finger     186 non-null    float64\n",
      "dtypes: float64(7), int64(26), object(15)\n",
      "memory usage: 69.9+ KB\n"
     ]
    }
   ],
   "source": [
    "df.info()"
   ]
  },
  {
   "cell_type": "code",
   "execution_count": 3,
   "id": "bc7cce06",
   "metadata": {
    "execution": {
     "iopub.execute_input": "2023-01-13T10:08:36.333265Z",
     "iopub.status.busy": "2023-01-13T10:08:36.331856Z",
     "iopub.status.idle": "2023-01-13T10:08:36.372834Z",
     "shell.execute_reply": "2023-01-13T10:08:36.371417Z"
    },
    "jupyter": {
     "source_hidden": true
    },
    "papermill": {
     "duration": 0.056572,
     "end_time": "2023-01-13T10:08:36.375917",
     "exception": false,
     "start_time": "2023-01-13T10:08:36.319345",
     "status": "completed"
    },
    "tags": []
   },
   "outputs": [
    {
     "data": {
      "text/html": [
       "<div>\n",
       "<style scoped>\n",
       "    .dataframe tbody tr th:only-of-type {\n",
       "        vertical-align: middle;\n",
       "    }\n",
       "\n",
       "    .dataframe tbody tr th {\n",
       "        vertical-align: top;\n",
       "    }\n",
       "\n",
       "    .dataframe thead th {\n",
       "        text-align: right;\n",
       "    }\n",
       "</style>\n",
       "<table border=\"1\" class=\"dataframe\">\n",
       "  <thead>\n",
       "    <tr style=\"text-align: right;\">\n",
       "      <th></th>\n",
       "      <th>Age</th>\n",
       "      <th>Growth</th>\n",
       "      <th>Shoe size</th>\n",
       "      <th>Course number</th>\n",
       "      <th>Year of birth</th>\n",
       "      <th>Friend number</th>\n",
       "      <th>Russian rating</th>\n",
       "      <th>Maths rating</th>\n",
       "      <th>Physics rating</th>\n",
       "      <th>Computer science rating</th>\n",
       "      <th>...</th>\n",
       "      <th>Social network duration min</th>\n",
       "      <th>Chocolate</th>\n",
       "      <th>City population</th>\n",
       "      <th>Strange people</th>\n",
       "      <th>Your insitute</th>\n",
       "      <th>Brother-sister</th>\n",
       "      <th>Plane seat</th>\n",
       "      <th>MIddle and index finger</th>\n",
       "      <th>Middle and ring finger</th>\n",
       "      <th>Middle and little finger</th>\n",
       "    </tr>\n",
       "  </thead>\n",
       "  <tbody>\n",
       "    <tr>\n",
       "      <th>0</th>\n",
       "      <td>20</td>\n",
       "      <td>170</td>\n",
       "      <td>40</td>\n",
       "      <td>2</td>\n",
       "      <td>2002</td>\n",
       "      <td>100</td>\n",
       "      <td>85</td>\n",
       "      <td>86</td>\n",
       "      <td>0</td>\n",
       "      <td>84</td>\n",
       "      <td>...</td>\n",
       "      <td>45</td>\n",
       "      <td>Сникерс</td>\n",
       "      <td>800000.0</td>\n",
       "      <td>Экономический</td>\n",
       "      <td>Математический и ИТ</td>\n",
       "      <td>нет ни брата ни сестры</td>\n",
       "      <td>У окна (пардон: у иллюминатора)</td>\n",
       "      <td>20</td>\n",
       "      <td>10.0</td>\n",
       "      <td>40.0</td>\n",
       "    </tr>\n",
       "    <tr>\n",
       "      <th>1</th>\n",
       "      <td>22</td>\n",
       "      <td>191</td>\n",
       "      <td>43</td>\n",
       "      <td>7</td>\n",
       "      <td>2000</td>\n",
       "      <td>307</td>\n",
       "      <td>69</td>\n",
       "      <td>74</td>\n",
       "      <td>64</td>\n",
       "      <td>72</td>\n",
       "      <td>...</td>\n",
       "      <td>180</td>\n",
       "      <td>КитКат</td>\n",
       "      <td>800000.0</td>\n",
       "      <td>Математический и ИТ</td>\n",
       "      <td>Математический и ИТ</td>\n",
       "      <td>есть и брат и сестра</td>\n",
       "      <td>В середине</td>\n",
       "      <td>5</td>\n",
       "      <td>5.0</td>\n",
       "      <td>20.0</td>\n",
       "    </tr>\n",
       "    <tr>\n",
       "      <th>2</th>\n",
       "      <td>21</td>\n",
       "      <td>172</td>\n",
       "      <td>41</td>\n",
       "      <td>4</td>\n",
       "      <td>2000</td>\n",
       "      <td>186</td>\n",
       "      <td>78</td>\n",
       "      <td>62</td>\n",
       "      <td>0</td>\n",
       "      <td>0</td>\n",
       "      <td>...</td>\n",
       "      <td>90</td>\n",
       "      <td>КитКат</td>\n",
       "      <td>770000.0</td>\n",
       "      <td>Педагогический</td>\n",
       "      <td>Другое</td>\n",
       "      <td>есть брат</td>\n",
       "      <td>У окна (пардон: у иллюминатора)</td>\n",
       "      <td>13</td>\n",
       "      <td>10.0</td>\n",
       "      <td>26.0</td>\n",
       "    </tr>\n",
       "    <tr>\n",
       "      <th>3</th>\n",
       "      <td>19</td>\n",
       "      <td>168</td>\n",
       "      <td>38</td>\n",
       "      <td>2</td>\n",
       "      <td>2003</td>\n",
       "      <td>604</td>\n",
       "      <td>72</td>\n",
       "      <td>0</td>\n",
       "      <td>0</td>\n",
       "      <td>0</td>\n",
       "      <td>...</td>\n",
       "      <td>200</td>\n",
       "      <td>Баунти</td>\n",
       "      <td>900000.0</td>\n",
       "      <td>СоцГум</td>\n",
       "      <td>Юридический</td>\n",
       "      <td>есть сестра</td>\n",
       "      <td>У окна (пардон: у иллюминатора)</td>\n",
       "      <td>12</td>\n",
       "      <td>13.5</td>\n",
       "      <td>35.0</td>\n",
       "    </tr>\n",
       "    <tr>\n",
       "      <th>4</th>\n",
       "      <td>23</td>\n",
       "      <td>159</td>\n",
       "      <td>36</td>\n",
       "      <td>1</td>\n",
       "      <td>1998</td>\n",
       "      <td>144</td>\n",
       "      <td>0</td>\n",
       "      <td>0</td>\n",
       "      <td>0</td>\n",
       "      <td>0</td>\n",
       "      <td>...</td>\n",
       "      <td>400</td>\n",
       "      <td>Баунти</td>\n",
       "      <td>860000.0</td>\n",
       "      <td>Педагогический</td>\n",
       "      <td>Педагогический</td>\n",
       "      <td>есть сестра</td>\n",
       "      <td>У окна (пардон: у иллюминатора)</td>\n",
       "      <td>10</td>\n",
       "      <td>11.0</td>\n",
       "      <td>22.0</td>\n",
       "    </tr>\n",
       "  </tbody>\n",
       "</table>\n",
       "<p>5 rows × 48 columns</p>\n",
       "</div>"
      ],
      "text/plain": [
       "   Age  Growth  Shoe size  Course number  Year of birth  Friend number  \\\n",
       "0   20     170         40              2           2002            100   \n",
       "1   22     191         43              7           2000            307   \n",
       "2   21     172         41              4           2000            186   \n",
       "3   19     168         38              2           2003            604   \n",
       "4   23     159         36              1           1998            144   \n",
       "\n",
       "   Russian rating  Maths rating  Physics rating  Computer science rating  ...  \\\n",
       "0              85            86               0                       84  ...   \n",
       "1              69            74              64                       72  ...   \n",
       "2              78            62               0                        0  ...   \n",
       "3              72             0               0                        0  ...   \n",
       "4               0             0               0                        0  ...   \n",
       "\n",
       "   Social network duration min  Chocolate  City population  \\\n",
       "0                           45    Сникерс         800000.0   \n",
       "1                          180     КитКат         800000.0   \n",
       "2                           90     КитКат         770000.0   \n",
       "3                          200     Баунти         900000.0   \n",
       "4                          400     Баунти         860000.0   \n",
       "\n",
       "        Strange people        Your insitute          Brother-sister  \\\n",
       "0        Экономический  Математический и ИТ  нет ни брата ни сестры   \n",
       "1  Математический и ИТ  Математический и ИТ    есть и брат и сестра   \n",
       "2       Педагогический               Другое               есть брат   \n",
       "3               СоцГум          Юридический             есть сестра   \n",
       "4       Педагогический       Педагогический             есть сестра   \n",
       "\n",
       "                        Plane seat  MIddle and index finger  \\\n",
       "0  У окна (пардон: у иллюминатора)                       20   \n",
       "1                       В середине                        5   \n",
       "2  У окна (пардон: у иллюминатора)                       13   \n",
       "3  У окна (пардон: у иллюминатора)                       12   \n",
       "4  У окна (пардон: у иллюминатора)                       10   \n",
       "\n",
       "   Middle and ring finger  Middle and little finger  \n",
       "0                    10.0                      40.0  \n",
       "1                     5.0                      20.0  \n",
       "2                    10.0                      26.0  \n",
       "3                    13.5                      35.0  \n",
       "4                    11.0                      22.0  \n",
       "\n",
       "[5 rows x 48 columns]"
      ]
     },
     "execution_count": 3,
     "metadata": {},
     "output_type": "execute_result"
    }
   ],
   "source": [
    "df.head()"
   ]
  },
  {
   "cell_type": "code",
   "execution_count": 4,
   "id": "544be1aa",
   "metadata": {
    "execution": {
     "iopub.execute_input": "2023-01-13T10:08:36.399802Z",
     "iopub.status.busy": "2023-01-13T10:08:36.399380Z",
     "iopub.status.idle": "2023-01-13T10:08:36.407694Z",
     "shell.execute_reply": "2023-01-13T10:08:36.406467Z"
    },
    "papermill": {
     "duration": 0.02222,
     "end_time": "2023-01-13T10:08:36.410068",
     "exception": false,
     "start_time": "2023-01-13T10:08:36.387848",
     "status": "completed"
    },
    "tags": []
   },
   "outputs": [
    {
     "data": {
      "text/plain": [
       "169"
      ]
     },
     "execution_count": 4,
     "metadata": {},
     "output_type": "execute_result"
    }
   ],
   "source": [
    "# 2.1.15. Какой рост у человека с индексом 12 в таблице?\n",
    "\n",
    "df.iloc[12]['Growth']"
   ]
  },
  {
   "cell_type": "code",
   "execution_count": 5,
   "id": "a18329cd",
   "metadata": {
    "execution": {
     "iopub.execute_input": "2023-01-13T10:08:36.433678Z",
     "iopub.status.busy": "2023-01-13T10:08:36.432877Z",
     "iopub.status.idle": "2023-01-13T10:08:36.440942Z",
     "shell.execute_reply": "2023-01-13T10:08:36.439734Z"
    },
    "papermill": {
     "duration": 0.022701,
     "end_time": "2023-01-13T10:08:36.443279",
     "exception": false,
     "start_time": "2023-01-13T10:08:36.420578",
     "status": "completed"
    },
    "tags": []
   },
   "outputs": [
    {
     "data": {
      "text/plain": [
       "161"
      ]
     },
     "execution_count": 5,
     "metadata": {},
     "output_type": "execute_result"
    }
   ],
   "source": [
    "# 2.1.16. Какой рост у восемнадцатого человека с конца таблицы?\n",
    "\n",
    "df.iloc[-18]['Growth']"
   ]
  },
  {
   "cell_type": "code",
   "execution_count": 6,
   "id": "97dde221",
   "metadata": {
    "execution": {
     "iopub.execute_input": "2023-01-13T10:08:36.466889Z",
     "iopub.status.busy": "2023-01-13T10:08:36.465717Z",
     "iopub.status.idle": "2023-01-13T10:08:36.474459Z",
     "shell.execute_reply": "2023-01-13T10:08:36.473444Z"
    },
    "papermill": {
     "duration": 0.022993,
     "end_time": "2023-01-13T10:08:36.476850",
     "exception": false,
     "start_time": "2023-01-13T10:08:36.453857",
     "status": "completed"
    },
    "tags": []
   },
   "outputs": [
    {
     "data": {
      "text/plain": [
       "64.03"
      ]
     },
     "execution_count": 6,
     "metadata": {},
     "output_type": "execute_result"
    }
   ],
   "source": [
    "# 2.2.5. Чему равно среднее значение веса студентов? Дать ответ с погрешностью 0.01\n",
    "\n",
    "df['Weight'].mean().round(2)"
   ]
  },
  {
   "cell_type": "code",
   "execution_count": 7,
   "id": "68ad7f69",
   "metadata": {
    "execution": {
     "iopub.execute_input": "2023-01-13T10:08:36.500942Z",
     "iopub.status.busy": "2023-01-13T10:08:36.500485Z",
     "iopub.status.idle": "2023-01-13T10:08:36.508255Z",
     "shell.execute_reply": "2023-01-13T10:08:36.507497Z"
    },
    "papermill": {
     "duration": 0.023684,
     "end_time": "2023-01-13T10:08:36.511279",
     "exception": false,
     "start_time": "2023-01-13T10:08:36.487595",
     "status": "completed"
    },
    "tags": []
   },
   "outputs": [
    {
     "data": {
      "text/plain": [
       "60.0"
      ]
     },
     "execution_count": 7,
     "metadata": {},
     "output_type": "execute_result"
    }
   ],
   "source": [
    "# 2.2.6. Чему равно медианное значение веса студентов?\n",
    "\n",
    "df['Weight'].median()"
   ]
  },
  {
   "cell_type": "code",
   "execution_count": 8,
   "id": "7605ab1a",
   "metadata": {
    "execution": {
     "iopub.execute_input": "2023-01-13T10:08:36.535433Z",
     "iopub.status.busy": "2023-01-13T10:08:36.535018Z",
     "iopub.status.idle": "2023-01-13T10:08:36.543190Z",
     "shell.execute_reply": "2023-01-13T10:08:36.541846Z"
    },
    "papermill": {
     "duration": 0.023229,
     "end_time": "2023-01-13T10:08:36.545659",
     "exception": false,
     "start_time": "2023-01-13T10:08:36.522430",
     "status": "completed"
    },
    "tags": []
   },
   "outputs": [
    {
     "data": {
      "text/plain": [
       "3.0"
      ]
     },
     "execution_count": 8,
     "metadata": {},
     "output_type": "execute_result"
    }
   ],
   "source": [
    "# 2.2.7. Чему равен вес самого \"лёгкого\" студента. Спойлер: у этого студента есть чувство юмора.\n",
    "\n",
    "df['Weight'].min()"
   ]
  },
  {
   "cell_type": "code",
   "execution_count": 9,
   "id": "4c2a1ca0",
   "metadata": {
    "execution": {
     "iopub.execute_input": "2023-01-13T10:08:36.569710Z",
     "iopub.status.busy": "2023-01-13T10:08:36.569314Z",
     "iopub.status.idle": "2023-01-13T10:08:36.577376Z",
     "shell.execute_reply": "2023-01-13T10:08:36.576098Z"
    },
    "papermill": {
     "duration": 0.022618,
     "end_time": "2023-01-13T10:08:36.579622",
     "exception": false,
     "start_time": "2023-01-13T10:08:36.557004",
     "status": "completed"
    },
    "tags": []
   },
   "outputs": [
    {
     "data": {
      "text/plain": [
       "120.0"
      ]
     },
     "execution_count": 9,
     "metadata": {},
     "output_type": "execute_result"
    }
   ],
   "source": [
    "# 2.2.8. Чему равно максимальное значение веса студента в таблице?\n",
    "\n",
    "df['Weight'].max()"
   ]
  },
  {
   "cell_type": "code",
   "execution_count": 10,
   "id": "5f32fb21",
   "metadata": {
    "execution": {
     "iopub.execute_input": "2023-01-13T10:08:36.604258Z",
     "iopub.status.busy": "2023-01-13T10:08:36.603745Z",
     "iopub.status.idle": "2023-01-13T10:08:36.611762Z",
     "shell.execute_reply": "2023-01-13T10:08:36.610550Z"
    },
    "papermill": {
     "duration": 0.022999,
     "end_time": "2023-01-13T10:08:36.614113",
     "exception": false,
     "start_time": "2023-01-13T10:08:36.591114",
     "status": "completed"
    },
    "tags": []
   },
   "outputs": [
    {
     "data": {
      "text/plain": [
       "88"
      ]
     },
     "execution_count": 10,
     "metadata": {},
     "output_type": "execute_result"
    }
   ],
   "source": [
    "# 2.2.9. Сколько людей выбирает \"Ножницы\" при игре в \"Камень-Ножницы-Бумагу\"?\n",
    "\n",
    "df['Rock paper scissors'][df['Rock paper scissors']=='Ножницы'].count()"
   ]
  },
  {
   "cell_type": "code",
   "execution_count": 11,
   "id": "b39f421a",
   "metadata": {
    "execution": {
     "iopub.execute_input": "2023-01-13T10:08:36.638988Z",
     "iopub.status.busy": "2023-01-13T10:08:36.637745Z",
     "iopub.status.idle": "2023-01-13T10:08:36.647888Z",
     "shell.execute_reply": "2023-01-13T10:08:36.646716Z"
    },
    "papermill": {
     "duration": 0.025205,
     "end_time": "2023-01-13T10:08:36.650625",
     "exception": false,
     "start_time": "2023-01-13T10:08:36.625420",
     "status": "completed"
    },
    "tags": []
   },
   "outputs": [
    {
     "data": {
      "text/plain": [
       "Ножницы    88\n",
       "Камень     60\n",
       "Бумага     38\n",
       "Name: Rock paper scissors, dtype: int64"
      ]
     },
     "execution_count": 11,
     "metadata": {},
     "output_type": "execute_result"
    }
   ],
   "source": [
    "# 2.2.10. Вы можете узнать, сколько студентов выбирают камень, ножницы или бумагу в игре. Зная эту информацию, какую фигуру выгоднее всего выбирать в игре?\n",
    "\n",
    "df['Rock paper scissors'].value_counts()\n",
    "\n",
    "# result - Камень"
   ]
  },
  {
   "cell_type": "code",
   "execution_count": 12,
   "id": "49629342",
   "metadata": {
    "execution": {
     "iopub.execute_input": "2023-01-13T10:08:36.675207Z",
     "iopub.status.busy": "2023-01-13T10:08:36.674766Z",
     "iopub.status.idle": "2023-01-13T10:08:36.681108Z",
     "shell.execute_reply": "2023-01-13T10:08:36.680124Z"
    },
    "papermill": {
     "duration": 0.021834,
     "end_time": "2023-01-13T10:08:36.683879",
     "exception": false,
     "start_time": "2023-01-13T10:08:36.662045",
     "status": "completed"
    },
    "tags": []
   },
   "outputs": [
    {
     "name": "stdout",
     "output_type": "stream",
     "text": [
      "58.0 женский\n"
     ]
    }
   ],
   "source": [
    "# 2.2.11 Чему равен вес десятого по счету человека в таблице и какой у него пол? \n",
    "\n",
    "# df[['Weight', 'Sex']].loc[9]\n",
    "# df.loc[9, ['Weight', 'Sex']]\n",
    "\n",
    "print(df.iloc[9]['Weight'], df.iloc[9]['Sex'])"
   ]
  },
  {
   "cell_type": "code",
   "execution_count": 13,
   "id": "15fcc563",
   "metadata": {
    "execution": {
     "iopub.execute_input": "2023-01-13T10:08:36.708817Z",
     "iopub.status.busy": "2023-01-13T10:08:36.708119Z",
     "iopub.status.idle": "2023-01-13T10:08:36.716202Z",
     "shell.execute_reply": "2023-01-13T10:08:36.715088Z"
    },
    "papermill": {
     "duration": 0.023072,
     "end_time": "2023-01-13T10:08:36.718484",
     "exception": false,
     "start_time": "2023-01-13T10:08:36.695412",
     "status": "completed"
    },
    "tags": []
   },
   "outputs": [
    {
     "data": {
      "text/plain": [
       "7    180\n",
       "Name: Growth, dtype: int64"
      ]
     },
     "execution_count": 13,
     "metadata": {},
     "output_type": "execute_result"
    }
   ],
   "source": [
    "# 2.3.9. Чему равен рост человека с максимальным весом?\n",
    "\n",
    "# df.loc[df.Weight.idxmax(), 'Growth']\n",
    "# df.query(\"Weight==Weight.max()\").Growth\n",
    "\n",
    "df['Growth'][df['Weight']==df['Weight'].max()]"
   ]
  },
  {
   "cell_type": "code",
   "execution_count": 14,
   "id": "73eb9b94",
   "metadata": {
    "execution": {
     "iopub.execute_input": "2023-01-13T10:08:36.743485Z",
     "iopub.status.busy": "2023-01-13T10:08:36.742678Z",
     "iopub.status.idle": "2023-01-13T10:08:36.752711Z",
     "shell.execute_reply": "2023-01-13T10:08:36.751574Z"
    },
    "papermill": {
     "duration": 0.025242,
     "end_time": "2023-01-13T10:08:36.755201",
     "exception": false,
     "start_time": "2023-01-13T10:08:36.729959",
     "status": "completed"
    },
    "tags": []
   },
   "outputs": [
    {
     "name": "stdout",
     "output_type": "stream",
     "text": [
      "11.045945945945945\n"
     ]
    }
   ],
   "source": [
    "# 2.3.10. Создайте две новых таблицы: army_persons - это все студенты, которых могут призвать в армию из-за отчисления, и free_persons - это те, кого не призовут.\n",
    "# Подсчитайте среднюю длину волос у студентов таблиц army_persons и free_persons. Верна ли гипотеза: \"Чтобы избежать призыва, нужно всего-лишь отрастить волосы подлиннее\"?\n",
    "# В ответ запишите среднюю длину волос студентов из army_persons. \n",
    "\n",
    "df['Army'].value_counts()\n",
    "free_persons = df[df['Army'] != 'могут призвать']\n",
    "free_persons['Hair length'].mean()\n",
    "army_persons = df[df['Army'] == 'могут призвать']\n",
    "result = army_persons['Hair length'].mean()\n",
    "print(result)"
   ]
  },
  {
   "cell_type": "code",
   "execution_count": 15,
   "id": "c98999a3",
   "metadata": {
    "execution": {
     "iopub.execute_input": "2023-01-13T10:08:36.781209Z",
     "iopub.status.busy": "2023-01-13T10:08:36.780653Z",
     "iopub.status.idle": "2023-01-13T10:08:36.789928Z",
     "shell.execute_reply": "2023-01-13T10:08:36.789006Z"
    },
    "papermill": {
     "duration": 0.02519,
     "end_time": "2023-01-13T10:08:36.792454",
     "exception": false,
     "start_time": "2023-01-13T10:08:36.767264",
     "status": "completed"
    },
    "tags": []
   },
   "outputs": [
    {
     "data": {
      "text/plain": [
       "мужской    1\n",
       "женский    1\n",
       "Name: Sex, dtype: int64"
      ]
     },
     "execution_count": 15,
     "metadata": {},
     "output_type": "execute_result"
    }
   ],
   "source": [
    "# 2.3.11. Найдите всех студентов, к которых 0 друзей в социальных сетях. Сколько среди них женщин и мужчин?\n",
    "# Запишите количество мужчин среди них.\n",
    "\n",
    "df[df['Friend number']==0]['Sex'].value_counts()"
   ]
  },
  {
   "cell_type": "code",
   "execution_count": 16,
   "id": "48f6e289",
   "metadata": {
    "execution": {
     "iopub.execute_input": "2023-01-13T10:08:36.817028Z",
     "iopub.status.busy": "2023-01-13T10:08:36.816409Z",
     "iopub.status.idle": "2023-01-13T10:08:36.826113Z",
     "shell.execute_reply": "2023-01-13T10:08:36.824995Z"
    },
    "papermill": {
     "duration": 0.024895,
     "end_time": "2023-01-13T10:08:36.828832",
     "exception": false,
     "start_time": "2023-01-13T10:08:36.803937",
     "status": "completed"
    },
    "tags": []
   },
   "outputs": [
    {
     "data": {
      "text/plain": [
       "12"
      ]
     },
     "execution_count": 16,
     "metadata": {},
     "output_type": "execute_result"
    }
   ],
   "source": [
    "# 2.3.12. Проверим гипотезу: \"Любители собак в основном живут на нижних этажах домов\" (типа иначе выгуливать лень). \n",
    "# Создайте таблицу dog_lovers - это все студенты, которые любят собак. \n",
    "# В ответ запишите долю (процент) из них, которые живут на первом этаже. Ответ округлить до целого количества процентов. \n",
    "\n",
    "dog_lovers = df[df.Animal == 'Собак']\n",
    "round(len(dog_lovers[dog_lovers['Floor number'] == 1]) / len(dog_lovers) * 100)"
   ]
  },
  {
   "cell_type": "code",
   "execution_count": 17,
   "id": "a2191534",
   "metadata": {
    "execution": {
     "iopub.execute_input": "2023-01-13T10:08:36.854200Z",
     "iopub.status.busy": "2023-01-13T10:08:36.853387Z",
     "iopub.status.idle": "2023-01-13T10:08:36.865018Z",
     "shell.execute_reply": "2023-01-13T10:08:36.863845Z"
    },
    "papermill": {
     "duration": 0.027014,
     "end_time": "2023-01-13T10:08:36.867377",
     "exception": false,
     "start_time": "2023-01-13T10:08:36.840363",
     "status": "completed"
    },
    "tags": []
   },
   "outputs": [
    {
     "data": {
      "text/plain": [
       "60.0"
      ]
     },
     "execution_count": 17,
     "metadata": {},
     "output_type": "execute_result"
    }
   ],
   "source": [
    "# 2.3.13. Получить две таблицы:\n",
    "# single_child - это все студенты у которых нет ни брата ни сестры\n",
    "# not_single_child - это все студенты у которых есть брат или сестра\n",
    "# Найдите медиану признака 'Social network duration min' (сколько времени студент проводит в соцсетях) отдельно для студентов таблицы  single_child  и таблицы not_single_child .\n",
    "# В ответ напишите, на сколько минут медиана для таблицы single_child  больше медианы для таблицы not_single_child. \n",
    "\n",
    "single_child = df[df[\"Brother-sister\"] == \"нет ни брата ни сестры\"]\n",
    "not_single_child = df[df[\"Brother-sister\"] != \"нет ни брата ни сестры\"]\n",
    "sc_median = single_child[\"Social network duration min\"].median()\n",
    "nsc_median = not_single_child[\"Social network duration min\"].median()\n",
    "sc_median - nsc_median"
   ]
  },
  {
   "cell_type": "code",
   "execution_count": 18,
   "id": "40a4c756",
   "metadata": {
    "execution": {
     "iopub.execute_input": "2023-01-13T10:08:36.892547Z",
     "iopub.status.busy": "2023-01-13T10:08:36.892041Z",
     "iopub.status.idle": "2023-01-13T10:08:36.904971Z",
     "shell.execute_reply": "2023-01-13T10:08:36.903767Z"
    },
    "papermill": {
     "duration": 0.028165,
     "end_time": "2023-01-13T10:08:36.907292",
     "exception": false,
     "start_time": "2023-01-13T10:08:36.879127",
     "status": "completed"
    },
    "tags": []
   },
   "outputs": [
    {
     "data": {
      "text/plain": [
       "8.059154929577474"
      ]
     },
     "execution_count": 18,
     "metadata": {},
     "output_type": "execute_result"
    }
   ],
   "source": [
    "# 2.3.14. Создайте три таблицы:\n",
    "# KFC_persons - студенты, которые ходят в KFC\n",
    "# Burger_persons - студенты, которые ходят в Burger king\n",
    "# Mac_persons - студенты, которые ходят в Макдональдс (aka \"Вкусно и точка\")\n",
    "# Для каждой категории студентов подсчитайте средний вес студентов.\n",
    "# В ответ напишите: на сколько средний вес студентов из KFC превышает средний вес студентов из Макдональдса.\n",
    "\n",
    "df['Fastfood'].value_counts()\n",
    "\n",
    "KFC_persons = df[df['Fastfood']=='KFC']\n",
    "Burger_persons = df[df['Fastfood']=='Бургер кинг']\n",
    "Mac_persons = df[df['Fastfood']=='Макдональдс (или как он там сейчас называется?)']\n",
    "\n",
    "KFC_persons['Weight'].mean() - Mac_persons['Weight'].mean()"
   ]
  },
  {
   "cell_type": "code",
   "execution_count": 19,
   "id": "610b3670",
   "metadata": {
    "execution": {
     "iopub.execute_input": "2023-01-13T10:08:36.932934Z",
     "iopub.status.busy": "2023-01-13T10:08:36.932492Z",
     "iopub.status.idle": "2023-01-13T10:08:36.942198Z",
     "shell.execute_reply": "2023-01-13T10:08:36.940878Z"
    },
    "papermill": {
     "duration": 0.025339,
     "end_time": "2023-01-13T10:08:36.944731",
     "exception": false,
     "start_time": "2023-01-13T10:08:36.919392",
     "status": "completed"
    },
    "tags": []
   },
   "outputs": [
    {
     "name": "stdout",
     "output_type": "stream",
     "text": [
      "2003\n"
     ]
    }
   ],
   "source": [
    "# 2.4.7. Создайте \"обрезанную таблицу\" df_cut, состоящую из столбцов \"Год рождения\", \"Рост\", \"Вес\", \"Длина волос\", \"Размер обуви\".\n",
    "# Отсортируйте таблицу по возрастанию признака \"Размер обуви\". В ответ напишите год рождения студента, попавшего в первую строку отсортированной таблицы.\n",
    "\n",
    "df_cut = df[['Year of birth', 'Growth', 'Weight', 'Hair length', 'Shoe size']]\n",
    "res = df_cut.sort_values(by='Shoe size', ascending=True)\n",
    "# print(*res.loc[:, 'Year of birth'].head(1).tolist())\n",
    "print(*res.iloc[[0]]['Year of birth'])"
   ]
  },
  {
   "cell_type": "code",
   "execution_count": 20,
   "id": "8e4a9919",
   "metadata": {
    "execution": {
     "iopub.execute_input": "2023-01-13T10:08:36.970899Z",
     "iopub.status.busy": "2023-01-13T10:08:36.970443Z",
     "iopub.status.idle": "2023-01-13T10:08:36.979414Z",
     "shell.execute_reply": "2023-01-13T10:08:36.978240Z"
    },
    "papermill": {
     "duration": 0.024478,
     "end_time": "2023-01-13T10:08:36.981641",
     "exception": false,
     "start_time": "2023-01-13T10:08:36.957163",
     "status": "completed"
    },
    "tags": []
   },
   "outputs": [
    {
     "name": "stdout",
     "output_type": "stream",
     "text": [
      "2002\n"
     ]
    }
   ],
   "source": [
    "# 2.4.8. Создайте \"обрезанную таблицу\" df_cut, состоящую из столбцов \"Год рождения\", \"Рост\", \"Вес\", \"Длина волос\", \"Размер обуви\".\n",
    "# Отсортируйте таблицу по убыванию признака \"Размер обуви\". В ответ напишите год рождения студента, попавшего в третью строку отсортированной таблицы.\n",
    "\n",
    "df_cut = df[['Year of birth', 'Growth', 'Weight', 'Hair length', 'Shoe size']]\n",
    "res = df_cut.sort_values('Shoe size', ascending=False)\n",
    "print(*res.iloc[[2]]['Year of birth'])"
   ]
  },
  {
   "cell_type": "code",
   "execution_count": 21,
   "id": "37556c63",
   "metadata": {
    "execution": {
     "iopub.execute_input": "2023-01-13T10:08:37.007739Z",
     "iopub.status.busy": "2023-01-13T10:08:37.007004Z",
     "iopub.status.idle": "2023-01-13T10:08:37.019053Z",
     "shell.execute_reply": "2023-01-13T10:08:37.017264Z"
    },
    "papermill": {
     "duration": 0.028049,
     "end_time": "2023-01-13T10:08:37.021853",
     "exception": false,
     "start_time": "2023-01-13T10:08:36.993804",
     "status": "completed"
    },
    "tags": []
   },
   "outputs": [
    {
     "name": "stdout",
     "output_type": "stream",
     "text": [
      "1999\n"
     ]
    }
   ],
   "source": [
    "# 2.4.9. Создайте \"обрезанную таблицу\" df_cut, состоящую из столбцов \"Год рождения\", \"Рост\", \"Вес\", \"Длина волос\", \"Размер обуви\".\n",
    "# Отсортируйте таблицу по возрастанию признака \"Размер обуви\", а внутри группы студентов с одинаковым размером обуви сортировка должна производиться по возрастанию  признака \"Рост\".\n",
    "# В ответ напишите год рождения студента, попавшего в девятую строку отсортированной таблицы.\n",
    "\n",
    "df_cut = df[['Year of birth', 'Growth', 'Weight', 'Hair length', 'Shoe size']]\n",
    "res = df_cut.sort_values(['Shoe size', 'Growth'], ascending=[True, True])\n",
    "# print(*res.iloc[[8]]['Year of birth'])\n",
    "print(res.iloc[8, 0])"
   ]
  },
  {
   "cell_type": "code",
   "execution_count": 22,
   "id": "946e3c5c",
   "metadata": {
    "execution": {
     "iopub.execute_input": "2023-01-13T10:08:37.047226Z",
     "iopub.status.busy": "2023-01-13T10:08:37.046767Z",
     "iopub.status.idle": "2023-01-13T10:08:37.059501Z",
     "shell.execute_reply": "2023-01-13T10:08:37.057818Z"
    },
    "papermill": {
     "duration": 0.028237,
     "end_time": "2023-01-13T10:08:37.061920",
     "exception": false,
     "start_time": "2023-01-13T10:08:37.033683",
     "status": "completed"
    },
    "tags": []
   },
   "outputs": [
    {
     "name": "stdout",
     "output_type": "stream",
     "text": [
      "2002\n"
     ]
    }
   ],
   "source": [
    "# 2.4.10 Создайте \"обрезанную таблицу\" df_cut, состоящую из столбцов \"Год рождения\", \"Рост\", \"Вес\", \"Длина волос\", \"Размер обуви\".\n",
    "# Отсортируйте таблицу по возрастанию признака \"Размер обуви\", а внутри группы студентов с одинаковым размером обуви сортировка должна производиться по убыванию признака \"Рост\".\n",
    "# В ответ напишите год рождения студента, попавшего во вторую строку отсортированной таблицы.\n",
    "\n",
    "df_cut = df[['Year of birth', 'Growth', 'Weight', 'Hair length', 'Shoe size']]\n",
    "res = df_cut.sort_values(['Shoe size', 'Growth'], ascending=[True, False])     \n",
    "print(res.reset_index().loc[1, 'Year of birth'])"
   ]
  },
  {
   "cell_type": "code",
   "execution_count": 23,
   "id": "c72ce1d7",
   "metadata": {
    "execution": {
     "iopub.execute_input": "2023-01-13T10:08:37.088256Z",
     "iopub.status.busy": "2023-01-13T10:08:37.087482Z",
     "iopub.status.idle": "2023-01-13T10:08:37.097844Z",
     "shell.execute_reply": "2023-01-13T10:08:37.096320Z"
    },
    "papermill": {
     "duration": 0.026576,
     "end_time": "2023-01-13T10:08:37.100592",
     "exception": false,
     "start_time": "2023-01-13T10:08:37.074016",
     "status": "completed"
    },
    "tags": []
   },
   "outputs": [
    {
     "name": "stdout",
     "output_type": "stream",
     "text": [
      "2003\n"
     ]
    }
   ],
   "source": [
    "# 2.4.11 Создайте \"обрезанную таблицу\" df_cut, состоящую из столбцов \"Год рождения\", \"Рост\", \"Вес\", \"Длина волос\", \"Размер обуви\".\n",
    "# Отсортируйте таблицу по убыванию признака \"Размер обуви\", а внутри группы студентов с одинаковым размером обуви сортировка должна производиться по возрастанию  признака \"Рост\".\n",
    "# В ответ напишите год рождения студента, попавшего во вторую строку отсортированной таблицы.\n",
    "\n",
    "df_cut = df[['Year of birth', 'Growth', 'Weight', 'Hair length', 'Shoe size']]\n",
    "res = df_cut.sort_values(by=['Shoe size', 'Growth'], ascending=[False, True])\n",
    "print(res.iloc[1, 0])"
   ]
  },
  {
   "cell_type": "code",
   "execution_count": 24,
   "id": "e81d73a5",
   "metadata": {
    "execution": {
     "iopub.execute_input": "2023-01-13T10:08:37.127356Z",
     "iopub.status.busy": "2023-01-13T10:08:37.126938Z",
     "iopub.status.idle": "2023-01-13T10:08:37.138762Z",
     "shell.execute_reply": "2023-01-13T10:08:37.137212Z"
    },
    "papermill": {
     "duration": 0.027816,
     "end_time": "2023-01-13T10:08:37.141168",
     "exception": false,
     "start_time": "2023-01-13T10:08:37.113352",
     "status": "completed"
    },
    "tags": []
   },
   "outputs": [
    {
     "name": "stderr",
     "output_type": "stream",
     "text": [
      "/opt/conda/lib/python3.7/site-packages/ipykernel_launcher.py:7: SettingWithCopyWarning: \n",
      "A value is trying to be set on a copy of a slice from a DataFrame.\n",
      "Try using .loc[row_indexer,col_indexer] = value instead\n",
      "\n",
      "See the caveats in the documentation: https://pandas.pydata.org/pandas-docs/stable/user_guide/indexing.html#returning-a-view-versus-a-copy\n",
      "  import sys\n"
     ]
    },
    {
     "data": {
      "text/plain": [
       "319.0"
      ]
     },
     "execution_count": 24,
     "metadata": {},
     "output_type": "execute_result"
    }
   ],
   "source": [
    "# 2.4.12 Создайте \"обрезанную таблицу\" df_cut, состоящую из столбцов \"Год рождения\", \"Рост\", \"Вес\", \"Длина волос\", \"Размер обуви\".\n",
    "# Допустим, что все студенты решили сделать себе прически типа \"Ирокез\".\n",
    "# Создайте новый столбец с названием 'Full length' (\"Полный рост\"), значения в котором равны сумме роста и длины волос. \n",
    "# Чему равно максимальное значение признака \"Полный рост\" для наших студентов?\n",
    "\n",
    "df_cut = df[['Year of birth', 'Growth', 'Weight', 'Hair length', 'Shoe size']]\n",
    "df_cut['Full length'] = df_cut['Growth'] + df_cut['Hair length']\n",
    "df_cut['Full length'].max()"
   ]
  },
  {
   "cell_type": "code",
   "execution_count": 25,
   "id": "8f72c7fe",
   "metadata": {
    "execution": {
     "iopub.execute_input": "2023-01-13T10:08:37.167095Z",
     "iopub.status.busy": "2023-01-13T10:08:37.166651Z",
     "iopub.status.idle": "2023-01-13T10:08:37.177452Z",
     "shell.execute_reply": "2023-01-13T10:08:37.176333Z"
    },
    "papermill": {
     "duration": 0.026239,
     "end_time": "2023-01-13T10:08:37.179579",
     "exception": false,
     "start_time": "2023-01-13T10:08:37.153340",
     "status": "completed"
    },
    "tags": []
   },
   "outputs": [
    {
     "data": {
      "text/plain": [
       "0.86"
      ]
     },
     "execution_count": 25,
     "metadata": {},
     "output_type": "execute_result"
    }
   ],
   "source": [
    "# 2.4.13 Создайте \"обрезанную таблицу\" df_cut, состоящую из столбцов \"Год рождения\", \"Рост\", \"Вес\", \"Длина волос\", \"Размер обуви\".\n",
    "# Выведите на экран таблицу со значениями коэффициента корреляции (КК). \n",
    "# Чему равен КК для признаков \"Рост\" и \"Размер обуви\"? Ответ округлить до двух знаков после запятой.\n",
    "\n",
    "df_cut = df[['Year of birth', 'Growth', 'Weight', 'Hair length', 'Shoe size']]\n",
    "round(df_cut[['Growth', 'Shoe size']].corr().iloc[0,1], 2)"
   ]
  },
  {
   "cell_type": "code",
   "execution_count": 26,
   "id": "be4de19e",
   "metadata": {
    "execution": {
     "iopub.execute_input": "2023-01-13T10:08:37.206149Z",
     "iopub.status.busy": "2023-01-13T10:08:37.205724Z",
     "iopub.status.idle": "2023-01-13T10:08:37.213348Z",
     "shell.execute_reply": "2023-01-13T10:08:37.212202Z"
    },
    "papermill": {
     "duration": 0.023769,
     "end_time": "2023-01-13T10:08:37.215530",
     "exception": false,
     "start_time": "2023-01-13T10:08:37.191761",
     "status": "completed"
    },
    "tags": []
   },
   "outputs": [
    {
     "data": {
      "text/plain": [
       "36"
      ]
     },
     "execution_count": 26,
     "metadata": {},
     "output_type": "execute_result"
    }
   ],
   "source": [
    "# 3.2.4 Сколько людей не захотели заполнять признак \"Children number\"?\n",
    "\n",
    "df['Children number'].isna().sum()"
   ]
  },
  {
   "cell_type": "code",
   "execution_count": 27,
   "id": "84d35b1e",
   "metadata": {
    "execution": {
     "iopub.execute_input": "2023-01-13T10:08:37.243748Z",
     "iopub.status.busy": "2023-01-13T10:08:37.242676Z",
     "iopub.status.idle": "2023-01-13T10:08:37.264593Z",
     "shell.execute_reply": "2023-01-13T10:08:37.263429Z"
    },
    "papermill": {
     "duration": 0.038616,
     "end_time": "2023-01-13T10:08:37.266981",
     "exception": false,
     "start_time": "2023-01-13T10:08:37.228365",
     "status": "completed"
    },
    "tags": []
   },
   "outputs": [
    {
     "name": "stderr",
     "output_type": "stream",
     "text": [
      "/opt/conda/lib/python3.7/site-packages/ipykernel_launcher.py:9: SettingWithCopyWarning: \n",
      "A value is trying to be set on a copy of a slice from a DataFrame.\n",
      "Try using .loc[row_indexer,col_indexer] = value instead\n",
      "\n",
      "See the caveats in the documentation: https://pandas.pydata.org/pandas-docs/stable/user_guide/indexing.html#returning-a-view-versus-a-copy\n",
      "  if __name__ == \"__main__\":\n",
      "/opt/conda/lib/python3.7/site-packages/ipykernel_launcher.py:10: SettingWithCopyWarning: \n",
      "A value is trying to be set on a copy of a slice from a DataFrame.\n",
      "Try using .loc[row_indexer,col_indexer] = value instead\n",
      "\n",
      "See the caveats in the documentation: https://pandas.pydata.org/pandas-docs/stable/user_guide/indexing.html#returning-a-view-versus-a-copy\n",
      "  # Remove the CWD from sys.path while we load stuff.\n"
     ]
    },
    {
     "data": {
      "text/plain": [
       "63.53"
      ]
     },
     "execution_count": 27,
     "metadata": {},
     "output_type": "execute_result"
    }
   ],
   "source": [
    "# 3.2.5 Будем заполнять пропуски в признаке \"Вес\". Разобьем нашу таблицу на две таблицы:\n",
    "# females=(все женщины из исходной таблицы), males=(все мужчины из исходной таблицы)\n",
    "# Далее в таблице females заполните пропуски в столбце \"Вес\", записав туда средний вес женщин. В таблице males заполните пропуски в столбце \"Вес\", записав туда средний вес мужчин.\n",
    "# Далее объедините таблицы males и females в одну. Далее в таблице df_new подсчитайте средний вес людей.\n",
    "\n",
    "females = df[df['Sex'] == 'женский']\n",
    "males = df[df['Sex'] == 'мужской']\n",
    "\n",
    "females['Weight'] = females['Weight'].fillna(females.Weight.mean())\n",
    "males['Weight'] = males['Weight'].fillna(males.Weight.mean())\n",
    "\n",
    "df_new = males.append(females)\n",
    "df_new.Weight.mean().round(2)"
   ]
  },
  {
   "cell_type": "code",
   "execution_count": 28,
   "id": "caa279f6",
   "metadata": {
    "execution": {
     "iopub.execute_input": "2023-01-13T10:08:37.294350Z",
     "iopub.status.busy": "2023-01-13T10:08:37.293929Z",
     "iopub.status.idle": "2023-01-13T10:08:37.313974Z",
     "shell.execute_reply": "2023-01-13T10:08:37.312744Z"
    },
    "papermill": {
     "duration": 0.036353,
     "end_time": "2023-01-13T10:08:37.316504",
     "exception": false,
     "start_time": "2023-01-13T10:08:37.280151",
     "status": "completed"
    },
    "tags": []
   },
   "outputs": [
    {
     "data": {
      "text/plain": [
       "63.53"
      ]
     },
     "execution_count": 28,
     "metadata": {},
     "output_type": "execute_result"
    }
   ],
   "source": [
    "# 3.2.5 \n",
    "\n",
    "females = df[['Sex', 'Weight']].query('Sex==\"женский\"')\n",
    "females = females.fillna(value=females.Weight.mean())\n",
    "\n",
    "males = df[['Sex', 'Weight']].query('Sex==\"мужской\"')\n",
    "males = males.fillna(value=males.Weight.mean())\n",
    "\n",
    "round(pd.concat([females, males]).Weight.mean(), 2)"
   ]
  },
  {
   "cell_type": "code",
   "execution_count": 29,
   "id": "7a74eee7",
   "metadata": {
    "execution": {
     "iopub.execute_input": "2023-01-13T10:08:37.344244Z",
     "iopub.status.busy": "2023-01-13T10:08:37.343836Z",
     "iopub.status.idle": "2023-01-13T10:08:37.365107Z",
     "shell.execute_reply": "2023-01-13T10:08:37.363672Z"
    },
    "papermill": {
     "duration": 0.038426,
     "end_time": "2023-01-13T10:08:37.367716",
     "exception": false,
     "start_time": "2023-01-13T10:08:37.329290",
     "status": "completed"
    },
    "tags": []
   },
   "outputs": [
    {
     "data": {
      "text/plain": [
       "2.0"
      ]
     },
     "execution_count": 29,
     "metadata": {},
     "output_type": "execute_result"
    }
   ],
   "source": [
    "# 3.2.6 Будем заполнять пропуски в признаке \"Желаемое число детей\" (\"Children number\"). Но не просто так. Разобьем нашу таблицу на две таблицы:\n",
    "# singles=(все, у кого нет ни брата ни сестры), sublings=(все, кто не попал в таблицу singles) \n",
    "# Далее в таблице singles заполните пропуски в столбце \"Children number\", записав туда медианное значение по этой таблице. Аналогично поступите с таблицей sublings. \n",
    "# Далее объедините таблицы singles и sublings в одну. Далее в таблице df_new подсчитайте медиану признака \"Children number\". \n",
    "\n",
    "singles = df[df['Brother-sister'] == 'нет ни брата ни сестры']\n",
    "siblings = df[df['Brother-sister'] != 'нет ни брата ни сестры']\n",
    "\n",
    "sing_median = singles['Children number'].median()\n",
    "sibl_median = siblings['Children number'].median()\n",
    "\n",
    "singles = singles.fillna(value=sing_median)\n",
    "siblings = siblings.fillna(value=sibl_median)\n",
    "\n",
    "df_new=singles.append(siblings )\n",
    "df_new['Children number'].median()"
   ]
  },
  {
   "cell_type": "code",
   "execution_count": 30,
   "id": "60a42abb",
   "metadata": {
    "execution": {
     "iopub.execute_input": "2023-01-13T10:08:37.395191Z",
     "iopub.status.busy": "2023-01-13T10:08:37.394763Z",
     "iopub.status.idle": "2023-01-13T10:08:37.410809Z",
     "shell.execute_reply": "2023-01-13T10:08:37.409615Z"
    },
    "papermill": {
     "duration": 0.032629,
     "end_time": "2023-01-13T10:08:37.413222",
     "exception": false,
     "start_time": "2023-01-13T10:08:37.380593",
     "status": "completed"
    },
    "tags": []
   },
   "outputs": [
    {
     "data": {
      "text/plain": [
       "2"
      ]
     },
     "execution_count": 30,
     "metadata": {},
     "output_type": "execute_result"
    }
   ],
   "source": [
    "# 3.2.6 \n",
    "\n",
    "df['single_child'] = df['Brother-sister'] == 'нет ни брата ни сестры'\n",
    "grp = df.groupby('single_child')['Children number'].median()\n",
    "for child in grp.index:\n",
    "    df.loc[(df['single_child'] == child) & \n",
    "           (df['Children number'].isna()), 'Children number'] = grp.loc[child]\n",
    "int(df['Children number'].median())"
   ]
  },
  {
   "cell_type": "code",
   "execution_count": 31,
   "id": "979c986b",
   "metadata": {
    "execution": {
     "iopub.execute_input": "2023-01-13T10:08:37.441809Z",
     "iopub.status.busy": "2023-01-13T10:08:37.441363Z",
     "iopub.status.idle": "2023-01-13T10:08:37.455236Z",
     "shell.execute_reply": "2023-01-13T10:08:37.454020Z"
    },
    "papermill": {
     "duration": 0.031151,
     "end_time": "2023-01-13T10:08:37.457550",
     "exception": false,
     "start_time": "2023-01-13T10:08:37.426399",
     "status": "completed"
    },
    "tags": []
   },
   "outputs": [
    {
     "data": {
      "text/plain": [
       "148"
      ]
     },
     "execution_count": 31,
     "metadata": {},
     "output_type": "execute_result"
    }
   ],
   "source": [
    "# 3.3.6. Повторите действия из \"Второго способа поиска выбросов\" для признака \"Putin age\". Предлагается найти всех студентов с помощью \"Второго способа поиска выбросов\" и удалить их из таблицы!\n",
    "# Сколько студентов осталось после этого в нашей таблице? \n",
    "\n",
    "q25, q75 = df['Putin age'].quantile(.25), df['Putin age'].quantile(.75)\n",
    "\n",
    "df_cut = df[(df['Putin age'] < q75 + 1.5*(q75-q25)) & (df['Putin age'] > q25 - 1.5*(q75 - q25))]\n",
    "\n",
    "df_cut['Putin age'].count()"
   ]
  },
  {
   "cell_type": "code",
   "execution_count": 32,
   "id": "d3672ba9",
   "metadata": {
    "execution": {
     "iopub.execute_input": "2023-01-13T10:08:37.486235Z",
     "iopub.status.busy": "2023-01-13T10:08:37.485775Z",
     "iopub.status.idle": "2023-01-13T10:08:37.500377Z",
     "shell.execute_reply": "2023-01-13T10:08:37.499265Z"
    },
    "papermill": {
     "duration": 0.031571,
     "end_time": "2023-01-13T10:08:37.502681",
     "exception": false,
     "start_time": "2023-01-13T10:08:37.471110",
     "status": "completed"
    },
    "tags": []
   },
   "outputs": [
    {
     "data": {
      "text/plain": [
       "69.0"
      ]
     },
     "execution_count": 32,
     "metadata": {},
     "output_type": "execute_result"
    }
   ],
   "source": [
    "# 3.3.7. Повторите действия из \"Второго способа поиска выбросов\" для признака \"Putin age\". Предлагается найти всех студентов с помощью \"Второго способа поиска выбросов\" и удалить их из таблицы!\n",
    "# чему равна медиана признака \"Putin age\" после удаления всех выбросов? \n",
    "\n",
    "q25, q75 = df['Putin age'].quantile(.25), df['Putin age'].quantile(.75)\n",
    "\n",
    "df_cut = df[(df['Putin age'] < q75 + 1.5*(q75-q25)) & (df['Putin age'] > q25 - 1.5*(q75 - q25))]\n",
    "\n",
    "df_cut['Putin age'].median()"
   ]
  },
  {
   "cell_type": "code",
   "execution_count": 33,
   "id": "55ae998f",
   "metadata": {
    "execution": {
     "iopub.execute_input": "2023-01-13T10:08:37.532264Z",
     "iopub.status.busy": "2023-01-13T10:08:37.531844Z",
     "iopub.status.idle": "2023-01-13T10:08:38.972422Z",
     "shell.execute_reply": "2023-01-13T10:08:38.971423Z"
    },
    "papermill": {
     "duration": 1.458505,
     "end_time": "2023-01-13T10:08:38.975152",
     "exception": false,
     "start_time": "2023-01-13T10:08:37.516647",
     "status": "completed"
    },
    "tags": []
   },
   "outputs": [
    {
     "data": {
      "text/plain": [
       "118"
      ]
     },
     "execution_count": 33,
     "metadata": {},
     "output_type": "execute_result"
    }
   ],
   "source": [
    "# 3.4.6. Загрузите в таблицу данные о весе и размере обуви студентов. \n",
    "# Не забудьте удалить пропуски в данных с помощью метода dropna()\n",
    "# Запустите алгоритм kmeans с параметрами n_clusters=2, random_state=1 (параметр random_state=1 нужен для того, чтобы у всех обучающихся был одинаковый ответ, без этого параметра ответы у разных людей могут быть разные).\n",
    "# Запишите количество студентов, которым после кластеризации была присвоена метка 0.\n",
    "\n",
    "from sklearn.cluster import KMeans\n",
    "\n",
    "df_cut=df[['Growth', 'Shoe size']]\n",
    "df_cut=df_cut.dropna()\n",
    "\n",
    "kmeans = KMeans(n_clusters=2, random_state=1)\n",
    "kmeans.fit(df_cut[['Growth', 'Shoe size']])\n",
    "df_cut['Label']=kmeans.labels_\n",
    "\n",
    "sum(df_cut['Label']==0)\n",
    "\n"
   ]
  },
  {
   "cell_type": "code",
   "execution_count": 34,
   "id": "b54d209b",
   "metadata": {
    "execution": {
     "iopub.execute_input": "2023-01-13T10:08:39.004094Z",
     "iopub.status.busy": "2023-01-13T10:08:39.003658Z",
     "iopub.status.idle": "2023-01-13T10:08:39.037537Z",
     "shell.execute_reply": "2023-01-13T10:08:39.036132Z"
    },
    "papermill": {
     "duration": 0.051113,
     "end_time": "2023-01-13T10:08:39.040101",
     "exception": false,
     "start_time": "2023-01-13T10:08:38.988988",
     "status": "completed"
    },
    "tags": []
   },
   "outputs": [
    {
     "name": "stdout",
     "output_type": "stream",
     "text": [
      "20.62\n"
     ]
    },
    {
     "name": "stderr",
     "output_type": "stream",
     "text": [
      "/opt/conda/lib/python3.7/site-packages/ipykernel_launcher.py:17: SettingWithCopyWarning: \n",
      "A value is trying to be set on a copy of a slice from a DataFrame.\n",
      "Try using .loc[row_indexer,col_indexer] = value instead\n",
      "\n",
      "See the caveats in the documentation: https://pandas.pydata.org/pandas-docs/stable/user_guide/indexing.html#returning-a-view-versus-a-copy\n",
      "  app.launch_new_instance()\n"
     ]
    }
   ],
   "source": [
    "# 4.1.6. Создайте таблицу df_cut, в которой будут только столбцы 'Age','Year of birth', 'Month of birthday' из файла students.csv . Запустите модель линейной регрессии, которая будет решать задачу предсказания признака 'Age' (целевой) по признакам 'Year of birth', 'Month of birthday' (нецелевые).\n",
    "# Когда модель будет натренирована, то загрузите тестовую выборку из файла students_test.csv \n",
    "# Устройте предсказание возраста для студентов из тестовой выборки. \n",
    "# Запишите возраст, предсказанный для первого по счету студента (то есть студента с индексом 0) из тестовой выборки.\n",
    "\n",
    "from sklearn.linear_model import LinearRegression\n",
    "\n",
    "df_cut = df[['Age', 'Year of birth', 'Month of birthday']]\n",
    "\n",
    "x = df_cut[['Year of birth', 'Month of birthday']].values.reshape(-1, 2)\n",
    "y = df_cut['Age'].values\n",
    "\n",
    "model = LinearRegression()\n",
    "results = model.fit(x, y)\n",
    "\n",
    "df_test_cut = df_test[['Age','Year of birth', 'Month of birthday']]\n",
    "df_test_cut['Predicted'] = results.predict(df_test_cut[['Year of birth', 'Month of birthday']].values.reshape(-1, 2))\n",
    "\n",
    "print(df_test_cut.loc[0, 'Predicted'].round(2))"
   ]
  },
  {
   "cell_type": "code",
   "execution_count": 35,
   "id": "78df9ffe",
   "metadata": {
    "execution": {
     "iopub.execute_input": "2023-01-13T10:08:39.069118Z",
     "iopub.status.busy": "2023-01-13T10:08:39.068347Z",
     "iopub.status.idle": "2023-01-13T10:08:39.076653Z",
     "shell.execute_reply": "2023-01-13T10:08:39.074873Z"
    },
    "papermill": {
     "duration": 0.025815,
     "end_time": "2023-01-13T10:08:39.079303",
     "exception": false,
     "start_time": "2023-01-13T10:08:39.053488",
     "status": "completed"
    },
    "tags": []
   },
   "outputs": [
    {
     "name": "stdout",
     "output_type": "stream",
     "text": [
      "1.61\n"
     ]
    }
   ],
   "source": [
    "# 4.1.7. Продолжение предыдущей задачи. Запишите среднюю абсолютную ошибку (mean absolute error) модели на тестовой выборке.\n",
    "\n",
    "from sklearn.metrics import mean_absolute_error\n",
    "\n",
    "result_mae = mean_absolute_error(df_test_cut['Age'], df_test_cut['Predicted'])\n",
    "\n",
    "print(result_mae.round(2))"
   ]
  },
  {
   "cell_type": "code",
   "execution_count": 36,
   "id": "ca672af1",
   "metadata": {
    "execution": {
     "iopub.execute_input": "2023-01-13T10:08:39.107972Z",
     "iopub.status.busy": "2023-01-13T10:08:39.107558Z",
     "iopub.status.idle": "2023-01-13T10:08:39.144865Z",
     "shell.execute_reply": "2023-01-13T10:08:39.143563Z"
    },
    "papermill": {
     "duration": 0.055363,
     "end_time": "2023-01-13T10:08:39.148355",
     "exception": false,
     "start_time": "2023-01-13T10:08:39.092992",
     "status": "completed"
    },
    "tags": []
   },
   "outputs": [
    {
     "name": "stdout",
     "output_type": "stream",
     "text": [
      "61\n"
     ]
    }
   ],
   "source": [
    "# 4.2.5. Будем по признакам 'Hair length','Shoe size' предсказывать признак 'Sex'. Загрузите эти признаки из таблицы students.csv\n",
    "# Пронормируйте признаки 'Hair length','Shoe size' используя StandardScaler\n",
    "# Запустите модель KNeighborsClassifier(n_neighbors=3), и получите предсказания для студентов из тестовой выборки students_test.csv\n",
    "# С помощью команды pd.crosstab постройте матрицу ошибок (таблицу сопряженности) предсказанного и истинного пола студентов.\n",
    "# В отчет запишите количество студентов женского пола, которые были детектированы как женщины.\n",
    "\n",
    "\n",
    "from sklearn.neighbors import KNeighborsClassifier\n",
    "from sklearn.preprocessing import StandardScaler\n",
    "\n",
    "col_names = ['Hair length', 'Shoe size', 'Sex']\n",
    "\n",
    "df_cut=df[col_names]\n",
    "df_cut=df_cut.dropna()\n",
    "\n",
    "df_test_cut=df_test[col_names]\n",
    "df_test_cut=df_test_cut.dropna()\n",
    "\n",
    "scaler = StandardScaler()\n",
    "scaler.fit(df_cut[['Hair length','Shoe size']].values.reshape(-1, 2))\n",
    "arr=scaler.transform(df_cut[['Hair length','Shoe size']].values.reshape(-1, 2))\n",
    "\n",
    "model = KNeighborsClassifier(n_neighbors=3)\n",
    "model.fit(arr, y=df_cut['Sex'].values)\n",
    "arr_test=scaler.transform(df_test_cut[['Hair length','Shoe size']].values.reshape(-1, 2))\n",
    "\n",
    "df_test_cut['Predicted']=model.predict(arr_test)\n",
    "\n",
    "print(pd.crosstab(df_test_cut['Predicted'],df_test_cut['Sex']).loc['женский', 'женский'])"
   ]
  },
  {
   "cell_type": "code",
   "execution_count": 37,
   "id": "094020c1",
   "metadata": {
    "execution": {
     "iopub.execute_input": "2023-01-13T10:08:39.178642Z",
     "iopub.status.busy": "2023-01-13T10:08:39.177886Z",
     "iopub.status.idle": "2023-01-13T10:08:39.208819Z",
     "shell.execute_reply": "2023-01-13T10:08:39.207579Z"
    },
    "papermill": {
     "duration": 0.049137,
     "end_time": "2023-01-13T10:08:39.212000",
     "exception": false,
     "start_time": "2023-01-13T10:08:39.162863",
     "status": "completed"
    },
    "tags": []
   },
   "outputs": [
    {
     "name": "stdout",
     "output_type": "stream",
     "text": [
      "35\n"
     ]
    }
   ],
   "source": [
    "# 4.2.6. Будем по признакам 'Hair length','Shoe size' предсказывать признак 'Sex'. Загрузите эти признаки из таблицы students.csv\n",
    "# Пронормируйте признаки 'Hair length','Shoe size' используя StandardScaler\n",
    "# Запустите модель SGDClassifier(random_state=0) (нужно написать фразу random_state=0, чтобы у всех обучающихся был одинаковый ответ), и получите предсказания для студентов из тестовой выборки students_test.csv\n",
    "# С помощью команды pd.crosstab постройте матрицу ошибок (таблицу сопряженности) предсказанного и истинного пола студентов.\n",
    "# В отчет запишите количество студентов мужского пола, которые были детектированы как мужчины.\n",
    "\n",
    "from sklearn.neighbors import KNeighborsClassifier\n",
    "from sklearn.preprocessing import StandardScaler\n",
    "from sklearn.linear_model import SGDClassifier\n",
    "\n",
    "\n",
    "col_names = ['Hair length', 'Shoe size', 'Sex']\n",
    "\n",
    "df_cut=df[col_names]\n",
    "df_cut=df_cut.dropna()\n",
    "\n",
    "df_test_cut=df_test[col_names]\n",
    "df_test_cut=df_test_cut.dropna()\n",
    "\n",
    "scaler = StandardScaler()\n",
    "scaler.fit(df_cut[['Hair length','Shoe size']].values.reshape(-1, 2))\n",
    "arr=scaler.transform(df_cut[['Hair length','Shoe size']].values.reshape(-1, 2))\n",
    "\n",
    "model=SGDClassifier(random_state=0)\n",
    "model.fit(arr, y=df_cut['Sex'].values)\n",
    "\n",
    "arr_test=scaler.transform(df_test_cut[['Hair length','Shoe size']].values.reshape(-1, 2))\n",
    "\n",
    "df_test_cut['Predicted']=model.predict(arr_test)\n",
    "\n",
    "print(pd.crosstab(df_test_cut['Predicted'],df_test_cut['Sex']).loc['мужской', 'мужской'])"
   ]
  },
  {
   "cell_type": "code",
   "execution_count": null,
   "id": "56489c9b",
   "metadata": {
    "papermill": {
     "duration": 0.013243,
     "end_time": "2023-01-13T10:08:39.239611",
     "exception": false,
     "start_time": "2023-01-13T10:08:39.226368",
     "status": "completed"
    },
    "tags": []
   },
   "outputs": [],
   "source": []
  }
 ],
 "metadata": {
  "kernelspec": {
   "display_name": "Python 3",
   "language": "python",
   "name": "python3"
  },
  "language_info": {
   "codemirror_mode": {
    "name": "ipython",
    "version": 3
   },
   "file_extension": ".py",
   "mimetype": "text/x-python",
   "name": "python",
   "nbconvert_exporter": "python",
   "pygments_lexer": "ipython3",
   "version": "3.7.12"
  },
  "papermill": {
   "default_parameters": {},
   "duration": 13.277399,
   "end_time": "2023-01-13T10:08:39.975108",
   "environment_variables": {},
   "exception": null,
   "input_path": "__notebook__.ipynb",
   "output_path": "__notebook__.ipynb",
   "parameters": {},
   "start_time": "2023-01-13T10:08:26.697709",
   "version": "2.3.4"
  }
 },
 "nbformat": 4,
 "nbformat_minor": 5
}
